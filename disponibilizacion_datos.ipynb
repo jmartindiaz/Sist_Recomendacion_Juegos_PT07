{
 "cells": [
  {
   "cell_type": "markdown",
   "metadata": {},
   "source": [
    "## ETL"
   ]
  },
  {
   "cell_type": "code",
   "execution_count": 220,
   "metadata": {},
   "outputs": [],
   "source": [
    "# Librerias necesarias\n",
    "import pandas as pd\n",
    "import numpy as np\n",
    "import json\n",
    "import ast\n",
    "import gzip"
   ]
  },
  {
   "cell_type": "code",
   "execution_count": 221,
   "metadata": {},
   "outputs": [],
   "source": [
    "# Ruta de los datos:\n",
    "ruta_games= 'Datasets originales/steam_games.json.gz'\n",
    "ruta_user_reviews= 'Datasets originales/user_reviews.json.gz'\n",
    "ruta_user_items= 'Datasets originales/users_items.json.gz'"
   ]
  },
  {
   "cell_type": "markdown",
   "metadata": {},
   "source": [
    "#### Games"
   ]
  },
  {
   "cell_type": "code",
   "execution_count": 222,
   "metadata": {},
   "outputs": [],
   "source": [
    "## Games:\n",
    "games_orig = []\n",
    "with gzip.open(ruta_games, 'rt', encoding='utf-8') as archivo_comprimido:\n",
    "    for linea in archivo_comprimido:\n",
    "        diccionario = json.loads(linea)\n",
    "        games_orig.append(diccionario)\n",
    "\n",
    "# Transformamos a DataFrame:\n",
    "games_orig = pd.DataFrame(games_orig)"
   ]
  },
  {
   "cell_type": "code",
   "execution_count": 223,
   "metadata": {},
   "outputs": [
    {
     "data": {
      "text/plain": [
       "(120445, 13)"
      ]
     },
     "execution_count": 223,
     "metadata": {},
     "output_type": "execute_result"
    }
   ],
   "source": [
    "# Copia de los datos para no estar constantemente cargandolos para resetearlos\n",
    "games = games_orig.copy()\n",
    "games.shape"
   ]
  },
  {
   "cell_type": "code",
   "execution_count": null,
   "metadata": {},
   "outputs": [],
   "source": [
    "games.tail()"
   ]
  },
  {
   "cell_type": "markdown",
   "metadata": {},
   "source": [
    "Las transformaciones que realizaremos en este caso serán: \n",
    "\n",
    "1. Eliminar registros completamente vacíos. \n",
    "2. Eliminar columnas que no utilizaremos: ``publisher``, ``url``, ``reviews_url``, ``price``, ``early_access``, ``developer``. Eliminar la columna ``tags`` previo a rellenar los datos faltantes de genres con sus valores. ``app_name`` y ``title`` dicen lo mismo, dejaremos la columna que tenga menor cantidad de datos faltantes.\n",
    "3. Desanidar registros que poseen valores con tipo de dato LISTA.\n",
    "4. Eliminar registros duplicados.\n",
    "5. Corregir el tipo de dato de cada columna. Los registros que poseen el campo ``release_date`` vacío o con un dato que no corresponde, se rellenaran con '1900-01-01' para poder mantener el registro sin perjudicar el análisis. También creamos ``release_year``.\n",
    "6. Eliminar registros que poseen datos vacíos en columnas relevantes.\n",
    "7. Renombraremos la columna ``id`` a ``ìtem_id``."
   ]
  },
  {
   "cell_type": "code",
   "execution_count": 224,
   "metadata": {},
   "outputs": [
    {
     "name": "stdout",
     "output_type": "stream",
     "text": [
      "tamaño inicial del dataframe: 120445 registros\n",
      "tamaño final del dataframe: 32135 registros \n"
     ]
    }
   ],
   "source": [
    "# 1. Eliminar registros completamente vacíos\n",
    "print(f'tamaño inicial del dataframe: {len(games)} registros')\n",
    "games.dropna(how='all', inplace= True, ignore_index=True)\n",
    "print(f'tamaño final del dataframe: {len(games)} registros ')"
   ]
  },
  {
   "cell_type": "code",
   "execution_count": 225,
   "metadata": {},
   "outputs": [
    {
     "name": "stdout",
     "output_type": "stream",
     "text": [
      "El tamaño inicial de games era (32135, 13)\n",
      "Columnas sin utilidad eliminadas\n",
      "Ahora, el tamaño final es: (32135, 5)\n"
     ]
    }
   ],
   "source": [
    "# 2. Eliminar columnas que no utilizaremos: ``publisher``, ``url``, ``reviews_url``, ``price``, ``early_access``, ``developer``.\n",
    "# Eliminar la columna ``tags`` previo a rellenar los datos faltantes de ``genres`` con sus valores. \n",
    "# ``app_name`` y ``title`` dicen lo mismo, dejaremos \"app_name\" que tiene menos datos faltantes y le cambiaremos el nombre a \"title\"\n",
    "\n",
    "print(f\"El tamaño inicial de games era {games.shape}\")\n",
    "\n",
    "games['genres'] = games['genres'].combine_first(games['tags']) # a cada valor faltante de genres le hara corresponder lo que figure en tags\n",
    "games['title']= games['app_name']\n",
    "games.drop(columns=['publisher', 'url', 'reviews_url', 'price', 'early_access', 'developer', 'tags', 'app_name'], inplace=True)\n",
    "\n",
    "print(\"Columnas sin utilidad eliminadas\")\n",
    "print(f\"Ahora, el tamaño final es: {games.shape}\")\n"
   ]
  },
  {
   "cell_type": "code",
   "execution_count": 226,
   "metadata": {},
   "outputs": [
    {
     "data": {
      "text/html": [
       "<div>\n",
       "<style scoped>\n",
       "    .dataframe tbody tr th:only-of-type {\n",
       "        vertical-align: middle;\n",
       "    }\n",
       "\n",
       "    .dataframe tbody tr th {\n",
       "        vertical-align: top;\n",
       "    }\n",
       "\n",
       "    .dataframe thead th {\n",
       "        text-align: right;\n",
       "    }\n",
       "</style>\n",
       "<table border=\"1\" class=\"dataframe\">\n",
       "  <thead>\n",
       "    <tr style=\"text-align: right;\">\n",
       "      <th></th>\n",
       "      <th>genres</th>\n",
       "      <th>title</th>\n",
       "      <th>release_date</th>\n",
       "      <th>specs</th>\n",
       "      <th>id</th>\n",
       "    </tr>\n",
       "  </thead>\n",
       "  <tbody>\n",
       "    <tr>\n",
       "      <th>28415</th>\n",
       "      <td>[Simulation, Strategy]</td>\n",
       "      <td>To End All Wars</td>\n",
       "      <td>2014-08-29</td>\n",
       "      <td>[Single-player, Multi-player, Co-op]</td>\n",
       "      <td>312360</td>\n",
       "    </tr>\n",
       "  </tbody>\n",
       "</table>\n",
       "</div>"
      ],
      "text/plain": [
       "                       genres            title release_date  \\\n",
       "28415  [Simulation, Strategy]  To End All Wars   2014-08-29   \n",
       "\n",
       "                                      specs      id  \n",
       "28415  [Single-player, Multi-player, Co-op]  312360  "
      ]
     },
     "execution_count": 226,
     "metadata": {},
     "output_type": "execute_result"
    }
   ],
   "source": [
    "games.sample()"
   ]
  },
  {
   "cell_type": "code",
   "execution_count": 227,
   "metadata": {},
   "outputs": [
    {
     "data": {
      "text/plain": [
       "(408844, 5)"
      ]
     },
     "execution_count": 227,
     "metadata": {},
     "output_type": "execute_result"
    }
   ],
   "source": [
    "# 3. Desanidar registros que poseen valores con tipo de dato LISTA: genres y specs.\n",
    "games = games.explode(column=['genres'], ignore_index=True)\n",
    "games = games.explode(column=['specs'], ignore_index=True)\n",
    "games.shape"
   ]
  },
  {
   "cell_type": "code",
   "execution_count": 228,
   "metadata": {},
   "outputs": [
    {
     "data": {
      "text/plain": [
       "(408840, 5)"
      ]
     },
     "execution_count": 228,
     "metadata": {},
     "output_type": "execute_result"
    }
   ],
   "source": [
    "# 4. Eliminar registros duplicados.\n",
    "games.drop_duplicates(inplace=True, ignore_index=True)\n",
    "games.shape"
   ]
  },
  {
   "cell_type": "code",
   "execution_count": 229,
   "metadata": {},
   "outputs": [
    {
     "name": "stdout",
     "output_type": "stream",
     "text": [
      "<class 'pandas.core.frame.DataFrame'>\n",
      "Index: 408829 entries, 0 to 408839\n",
      "Data columns (total 5 columns):\n",
      " #   Column        Non-Null Count   Dtype \n",
      "---  ------        --------------   ----- \n",
      " 0   genres        408631 non-null  object\n",
      " 1   title         408825 non-null  object\n",
      " 2   release_year  408829 non-null  int32 \n",
      " 3   specs         407184 non-null  object\n",
      " 4   item_id       408829 non-null  int32 \n",
      "dtypes: int32(2), object(3)\n",
      "memory usage: 15.6+ MB\n"
     ]
    },
    {
     "data": {
      "text/plain": [
       "(408829, 5)"
      ]
     },
     "execution_count": 229,
     "metadata": {},
     "output_type": "execute_result"
    }
   ],
   "source": [
    "# 5. Corregir el tipo de dato de cada columna.\n",
    "## genres OK\n",
    "## specs OK\n",
    "## title OK\n",
    "## release_date INCONSISTENTE\n",
    "## id VALORES NAN. Borrarlos, no me sirven xq no puedo identificar sus reviews\n",
    "fecha_relleno = pd.to_datetime('1900-01-01')\n",
    "games['release_date'] = pd.to_datetime(games['release_date'], format='%Y-%m-%d', errors='coerce').fillna(fecha_relleno).dt.year\n",
    "games.rename(columns={'release_date':'release_year','id':'item_id'}, inplace=True)\n",
    "# Si no tiene ID no sirve, se dropea.\n",
    "games.dropna(subset='item_id', inplace=True)\n",
    "games['item_id']=games['item_id'].astype(int)\n",
    "games.info()\n",
    "games.shape"
   ]
  },
  {
   "cell_type": "code",
   "execution_count": 230,
   "metadata": {},
   "outputs": [
    {
     "data": {
      "text/plain": [
       "(408631, 5)"
      ]
     },
     "execution_count": 230,
     "metadata": {},
     "output_type": "execute_result"
    }
   ],
   "source": [
    "# 6. Eliminar registros que poseen datos vacíos en columnas relevantes\n",
    "item_id_sin_utilidad = games['item_id'][games['genres'].isna()].unique()\n",
    "games.dropna(subset='genres', inplace=True, ignore_index=True)\n",
    "games.shape"
   ]
  },
  {
   "cell_type": "markdown",
   "metadata": {},
   "source": [
    "#### Para poder MERGEAR las tablas, los campos de las PK y FK deben ser el mismo tipo de dato. No puedo mergear un ``item_id`` string con un ``item_id`` integer"
   ]
  },
  {
   "cell_type": "markdown",
   "metadata": {},
   "source": [
    "#### Reviews"
   ]
  },
  {
   "cell_type": "code",
   "execution_count": 232,
   "metadata": {},
   "outputs": [],
   "source": [
    "## Reviews:\n",
    "user_reviews = []\n",
    "with gzip.open(ruta_user_reviews, 'rt', encoding=\"utf-8\") as archivo_comprimido:\n",
    "    for linea in archivo_comprimido:\n",
    "        user_reviews.append(ast.literal_eval(linea))\n",
    "    \n",
    "# Transformamos a DataFrame:\n",
    "user_reviews_orig = pd.DataFrame(user_reviews)\n"
   ]
  },
  {
   "cell_type": "code",
   "execution_count": 262,
   "metadata": {},
   "outputs": [],
   "source": [
    "# Copia de los datos para no estar constantemente cargandolos para resetearlos\n",
    "user_reviews = user_reviews_orig.copy()"
   ]
  },
  {
   "cell_type": "code",
   "execution_count": null,
   "metadata": {},
   "outputs": [],
   "source": [
    "user_reviews.head()"
   ]
  },
  {
   "cell_type": "code",
   "execution_count": 263,
   "metadata": {},
   "outputs": [],
   "source": [
    "# Extraigo solo las columnas que voy a usar\n",
    "\n",
    "reviews = user_reviews[['user_id','reviews']]"
   ]
  },
  {
   "cell_type": "code",
   "execution_count": 264,
   "metadata": {},
   "outputs": [],
   "source": [
    "# Desanidamos reviews:\n",
    "\n",
    "reviews_explode = reviews.explode('reviews', ignore_index=True) # separo en filas todos todos los json que estan listados en cada registro\n",
    "reviews_desanidado = pd.json_normalize(reviews_explode['reviews']) # transformo a tabla cada uno de los json que tenemos en cada registro\n",
    "reviews = pd.concat([reviews_explode,reviews_desanidado], axis=1).drop(columns=['reviews']) # concateno ambos dataframes y dropeo la columna reviews que está anidada"
   ]
  },
  {
   "cell_type": "code",
   "execution_count": null,
   "metadata": {},
   "outputs": [],
   "source": [
    "reviews.head()"
   ]
  },
  {
   "cell_type": "code",
   "execution_count": 265,
   "metadata": {},
   "outputs": [
    {
     "data": {
      "text/plain": [
       "(59333, 8)"
      ]
     },
     "execution_count": 265,
     "metadata": {},
     "output_type": "execute_result"
    }
   ],
   "source": [
    "reviews.shape"
   ]
  },
  {
   "cell_type": "markdown",
   "metadata": {},
   "source": [
    "Las transformaciones que realizaremos en este caso serán: \n",
    "\n",
    "1. Removeremos los registros en el que la mayoria de los campos son NaN.\n",
    "2. Removeremos la columna ``funny``, no nos interesa saber si una opinion es divertida, mas bien nos interesa si da una buena, mala o neutral opinion del juego. Tampoco nos interesa la última edicion del review, entonces ``last_edited`` será eliminada.\n",
    "3. Corrección de la fecha de publicación del review, cambio del tipo de dato y renombramiento de ```posted`` a ``posted_year``.\n",
    "4. Remover los registros es los que ``item_id`` coincide con **item_id_sin_utilidad**. Corresponden a ids de juegos que ya fueron borrados de nuestra BBDD.\n",
    "5. Cambio del tipo de dato de la columna ``recommend``.\n"
   ]
  },
  {
   "cell_type": "code",
   "execution_count": 266,
   "metadata": {},
   "outputs": [
    {
     "data": {
      "text/plain": [
       "(28, 8)"
      ]
     },
     "execution_count": 266,
     "metadata": {},
     "output_type": "execute_result"
    }
   ],
   "source": [
    "reviews[reviews['funny'].isna()].shape # todos estos son registros practicamente nulos"
   ]
  },
  {
   "cell_type": "code",
   "execution_count": 267,
   "metadata": {},
   "outputs": [
    {
     "name": "stdout",
     "output_type": "stream",
     "text": [
      "<class 'pandas.core.frame.DataFrame'>\n",
      "RangeIndex: 59305 entries, 0 to 59304\n",
      "Data columns (total 8 columns):\n",
      " #   Column       Non-Null Count  Dtype \n",
      "---  ------       --------------  ----- \n",
      " 0   user_id      59305 non-null  object\n",
      " 1   funny        59305 non-null  object\n",
      " 2   posted       59305 non-null  object\n",
      " 3   last_edited  59305 non-null  object\n",
      " 4   item_id      59305 non-null  object\n",
      " 5   helpful      59305 non-null  object\n",
      " 6   recommend    59305 non-null  object\n",
      " 7   review       59305 non-null  object\n",
      "dtypes: object(8)\n",
      "memory usage: 3.6+ MB\n"
     ]
    }
   ],
   "source": [
    "# 1. Removeremos los registros en el que la mayoria de los campos son NaN.\n",
    "reviews.dropna(subset='funny', inplace=True, ignore_index=True)\n",
    "reviews.info()"
   ]
  },
  {
   "cell_type": "code",
   "execution_count": 268,
   "metadata": {},
   "outputs": [
    {
     "data": {
      "text/html": [
       "<div>\n",
       "<style scoped>\n",
       "    .dataframe tbody tr th:only-of-type {\n",
       "        vertical-align: middle;\n",
       "    }\n",
       "\n",
       "    .dataframe tbody tr th {\n",
       "        vertical-align: top;\n",
       "    }\n",
       "\n",
       "    .dataframe thead th {\n",
       "        text-align: right;\n",
       "    }\n",
       "</style>\n",
       "<table border=\"1\" class=\"dataframe\">\n",
       "  <thead>\n",
       "    <tr style=\"text-align: right;\">\n",
       "      <th></th>\n",
       "      <th>user_id</th>\n",
       "      <th>posted</th>\n",
       "      <th>item_id</th>\n",
       "      <th>helpful</th>\n",
       "      <th>recommend</th>\n",
       "      <th>review</th>\n",
       "    </tr>\n",
       "  </thead>\n",
       "  <tbody>\n",
       "    <tr>\n",
       "      <th>23292</th>\n",
       "      <td>76561198090341048</td>\n",
       "      <td>Posted June 21, 2014.</td>\n",
       "      <td>267550</td>\n",
       "      <td>No ratings yet</td>\n",
       "      <td>True</td>\n",
       "      <td>10/10 your webs stick to buildings instead of ...</td>\n",
       "    </tr>\n",
       "  </tbody>\n",
       "</table>\n",
       "</div>"
      ],
      "text/plain": [
       "                 user_id                 posted item_id         helpful  \\\n",
       "23292  76561198090341048  Posted June 21, 2014.  267550  No ratings yet   \n",
       "\n",
       "      recommend                                             review  \n",
       "23292      True  10/10 your webs stick to buildings instead of ...  "
      ]
     },
     "execution_count": 268,
     "metadata": {},
     "output_type": "execute_result"
    }
   ],
   "source": [
    "# 2. Removeremos la columna ``funny``, no nos interesa saber si una opinion es divertida,\n",
    "# mas bien nos interesa si da una buena, mala o neutral opinion del juego.\n",
    "reviews.drop(columns=['funny', 'last_edited'], inplace=True)\n",
    "reviews.sample()"
   ]
  },
  {
   "cell_type": "code",
   "execution_count": 269,
   "metadata": {},
   "outputs": [],
   "source": [
    "# 3. Corrección de la fecha de publicación del review, cambio del tipo de dato\n",
    "a_eliminar = reviews['posted'].str.contains(r'Posted [A-Z][a-z]+ \\d{1,2}\\.')\n",
    "reviews=reviews[~a_eliminar]\n",
    "reviews.reset_index(drop=True, inplace=True)\n",
    "def extraer_año(texto):\n",
    "    return texto[-5:-1]\n",
    "reviews['posted'] = reviews['posted'].apply(lambda x: extraer_año(x)).astype('int32')\n",
    "reviews.rename(columns={'posted':'posted_year'}, inplace=True)\n"
   ]
  },
  {
   "cell_type": "code",
   "execution_count": 270,
   "metadata": {},
   "outputs": [],
   "source": [
    "# 4. Remover los registros es los que ``item_id`` coincide con **item_id_sin_utilidad**. Corresponden a ids de juegos que ya fueron borrados de nuestra BBDD.\n",
    "reviews['item_id'] = reviews['item_id'].astype('int32')\n",
    "reviews = reviews[~reviews['item_id'].isin(item_id_sin_utilidad)].reset_index(drop=True)\n",
    "# solo se borró un registro, pero bueno, cualquier limpieza por mas chica que sea es bienvenida. "
   ]
  },
  {
   "cell_type": "code",
   "execution_count": 274,
   "metadata": {},
   "outputs": [
    {
     "data": {
      "text/plain": [
       "(49185, 6)"
      ]
     },
     "execution_count": 274,
     "metadata": {},
     "output_type": "execute_result"
    }
   ],
   "source": [
    "reviews.shape"
   ]
  },
  {
   "cell_type": "code",
   "execution_count": 278,
   "metadata": {},
   "outputs": [],
   "source": [
    "reviews['recommend'] = reviews['recommend'].astype('bool') "
   ]
  },
  {
   "cell_type": "markdown",
   "metadata": {},
   "source": [
    "#### Items"
   ]
  },
  {
   "cell_type": "code",
   "execution_count": 279,
   "metadata": {},
   "outputs": [],
   "source": [
    "## Items:\n",
    "user_items = []\n",
    "with gzip.open(ruta_user_items, 'rt', encoding=\"utf-8\") as archivo_comprimido:\n",
    "    for linea in archivo_comprimido:\n",
    "        user_items.append(ast.literal_eval(linea))\n",
    "    \n",
    "# Transformamos a DataFrame:\n",
    "user_items_orig = pd.DataFrame(user_items)"
   ]
  },
  {
   "cell_type": "code",
   "execution_count": 310,
   "metadata": {},
   "outputs": [],
   "source": [
    "# Copia de los datos para no estar constantemente cargandolos para resetearlos\n",
    "user_items = user_items_orig.copy()"
   ]
  },
  {
   "cell_type": "code",
   "execution_count": 311,
   "metadata": {},
   "outputs": [
    {
     "data": {
      "text/html": [
       "<div>\n",
       "<style scoped>\n",
       "    .dataframe tbody tr th:only-of-type {\n",
       "        vertical-align: middle;\n",
       "    }\n",
       "\n",
       "    .dataframe tbody tr th {\n",
       "        vertical-align: top;\n",
       "    }\n",
       "\n",
       "    .dataframe thead th {\n",
       "        text-align: right;\n",
       "    }\n",
       "</style>\n",
       "<table border=\"1\" class=\"dataframe\">\n",
       "  <thead>\n",
       "    <tr style=\"text-align: right;\">\n",
       "      <th></th>\n",
       "      <th>user_id</th>\n",
       "      <th>items</th>\n",
       "    </tr>\n",
       "  </thead>\n",
       "  <tbody>\n",
       "    <tr>\n",
       "      <th>0</th>\n",
       "      <td>76561197970982479</td>\n",
       "      <td>[{'item_id': '10', 'item_name': 'Counter-Strik...</td>\n",
       "    </tr>\n",
       "    <tr>\n",
       "      <th>1</th>\n",
       "      <td>js41637</td>\n",
       "      <td>[{'item_id': '10', 'item_name': 'Counter-Strik...</td>\n",
       "    </tr>\n",
       "    <tr>\n",
       "      <th>2</th>\n",
       "      <td>evcentric</td>\n",
       "      <td>[{'item_id': '1200', 'item_name': 'Red Orchest...</td>\n",
       "    </tr>\n",
       "    <tr>\n",
       "      <th>3</th>\n",
       "      <td>Riot-Punch</td>\n",
       "      <td>[{'item_id': '10', 'item_name': 'Counter-Strik...</td>\n",
       "    </tr>\n",
       "    <tr>\n",
       "      <th>4</th>\n",
       "      <td>doctr</td>\n",
       "      <td>[{'item_id': '300', 'item_name': 'Day of Defea...</td>\n",
       "    </tr>\n",
       "  </tbody>\n",
       "</table>\n",
       "</div>"
      ],
      "text/plain": [
       "             user_id                                              items\n",
       "0  76561197970982479  [{'item_id': '10', 'item_name': 'Counter-Strik...\n",
       "1            js41637  [{'item_id': '10', 'item_name': 'Counter-Strik...\n",
       "2          evcentric  [{'item_id': '1200', 'item_name': 'Red Orchest...\n",
       "3         Riot-Punch  [{'item_id': '10', 'item_name': 'Counter-Strik...\n",
       "4              doctr  [{'item_id': '300', 'item_name': 'Day of Defea..."
      ]
     },
     "execution_count": 311,
     "metadata": {},
     "output_type": "execute_result"
    }
   ],
   "source": [
    "# Extraigo solo las columnas que voy a usar:\n",
    "items = user_items[['user_id','items']]\n",
    "items.head()"
   ]
  },
  {
   "cell_type": "code",
   "execution_count": 312,
   "metadata": {},
   "outputs": [],
   "source": [
    "# Desanidamos items:\n",
    "\n",
    "items_explode = items.explode('items', ignore_index=True) # separo en filas todos todos los json que estan listados en cada registro\n",
    "items_desanidado = pd.json_normalize(items_explode['items']) # transformo a tabla cada uno de los json que tenemos en cada registro\n",
    "items = pd.concat([items_explode,items_desanidado], axis=1).drop(columns=['items']) # concateno ambos dataframes y dropeo la columna items que está anidada"
   ]
  },
  {
   "cell_type": "code",
   "execution_count": 313,
   "metadata": {},
   "outputs": [
    {
     "data": {
      "text/plain": [
       "(5170015, 5)"
      ]
     },
     "execution_count": 313,
     "metadata": {},
     "output_type": "execute_result"
    }
   ],
   "source": [
    "items.shape"
   ]
  },
  {
   "cell_type": "code",
   "execution_count": 314,
   "metadata": {},
   "outputs": [
    {
     "data": {
      "text/html": [
       "<div>\n",
       "<style scoped>\n",
       "    .dataframe tbody tr th:only-of-type {\n",
       "        vertical-align: middle;\n",
       "    }\n",
       "\n",
       "    .dataframe tbody tr th {\n",
       "        vertical-align: top;\n",
       "    }\n",
       "\n",
       "    .dataframe thead th {\n",
       "        text-align: right;\n",
       "    }\n",
       "</style>\n",
       "<table border=\"1\" class=\"dataframe\">\n",
       "  <thead>\n",
       "    <tr style=\"text-align: right;\">\n",
       "      <th></th>\n",
       "      <th>user_id</th>\n",
       "      <th>item_id</th>\n",
       "      <th>item_name</th>\n",
       "      <th>playtime_forever</th>\n",
       "      <th>playtime_2weeks</th>\n",
       "    </tr>\n",
       "  </thead>\n",
       "  <tbody>\n",
       "    <tr>\n",
       "      <th>0</th>\n",
       "      <td>76561197970982479</td>\n",
       "      <td>10</td>\n",
       "      <td>Counter-Strike</td>\n",
       "      <td>6.0</td>\n",
       "      <td>0.0</td>\n",
       "    </tr>\n",
       "    <tr>\n",
       "      <th>1</th>\n",
       "      <td>76561197970982479</td>\n",
       "      <td>20</td>\n",
       "      <td>Team Fortress Classic</td>\n",
       "      <td>0.0</td>\n",
       "      <td>0.0</td>\n",
       "    </tr>\n",
       "    <tr>\n",
       "      <th>2</th>\n",
       "      <td>76561197970982479</td>\n",
       "      <td>30</td>\n",
       "      <td>Day of Defeat</td>\n",
       "      <td>7.0</td>\n",
       "      <td>0.0</td>\n",
       "    </tr>\n",
       "    <tr>\n",
       "      <th>3</th>\n",
       "      <td>76561197970982479</td>\n",
       "      <td>40</td>\n",
       "      <td>Deathmatch Classic</td>\n",
       "      <td>0.0</td>\n",
       "      <td>0.0</td>\n",
       "    </tr>\n",
       "    <tr>\n",
       "      <th>4</th>\n",
       "      <td>76561197970982479</td>\n",
       "      <td>50</td>\n",
       "      <td>Half-Life: Opposing Force</td>\n",
       "      <td>0.0</td>\n",
       "      <td>0.0</td>\n",
       "    </tr>\n",
       "  </tbody>\n",
       "</table>\n",
       "</div>"
      ],
      "text/plain": [
       "             user_id item_id                  item_name  playtime_forever  \\\n",
       "0  76561197970982479      10             Counter-Strike               6.0   \n",
       "1  76561197970982479      20      Team Fortress Classic               0.0   \n",
       "2  76561197970982479      30              Day of Defeat               7.0   \n",
       "3  76561197970982479      40         Deathmatch Classic               0.0   \n",
       "4  76561197970982479      50  Half-Life: Opposing Force               0.0   \n",
       "\n",
       "   playtime_2weeks  \n",
       "0              0.0  \n",
       "1              0.0  \n",
       "2              0.0  \n",
       "3              0.0  \n",
       "4              0.0  "
      ]
     },
     "execution_count": 314,
     "metadata": {},
     "output_type": "execute_result"
    }
   ],
   "source": [
    "items.head()"
   ]
  },
  {
   "cell_type": "markdown",
   "metadata": {},
   "source": [
    "Las transformaciones que realizaremos en este caso serán: \n",
    "\n",
    "1. Removeremos los registros en el que la mayoria de los campos son NaN."
   ]
  },
  {
   "cell_type": "code",
   "execution_count": 315,
   "metadata": {},
   "outputs": [
    {
     "data": {
      "text/plain": [
       "(5153209, 5)"
      ]
     },
     "execution_count": 315,
     "metadata": {},
     "output_type": "execute_result"
    }
   ],
   "source": [
    "items.shape\n",
    "items.dropna(subset='item_id', inplace=True, ignore_index=True)\n",
    "items.shape"
   ]
  },
  {
   "cell_type": "code",
   "execution_count": 316,
   "metadata": {},
   "outputs": [
    {
     "data": {
      "text/html": [
       "<div>\n",
       "<style scoped>\n",
       "    .dataframe tbody tr th:only-of-type {\n",
       "        vertical-align: middle;\n",
       "    }\n",
       "\n",
       "    .dataframe tbody tr th {\n",
       "        vertical-align: top;\n",
       "    }\n",
       "\n",
       "    .dataframe thead th {\n",
       "        text-align: right;\n",
       "    }\n",
       "</style>\n",
       "<table border=\"1\" class=\"dataframe\">\n",
       "  <thead>\n",
       "    <tr style=\"text-align: right;\">\n",
       "      <th></th>\n",
       "      <th>user_id</th>\n",
       "      <th>item_id</th>\n",
       "      <th>item_name</th>\n",
       "      <th>playtime_forever</th>\n",
       "      <th>playtime_2weeks</th>\n",
       "    </tr>\n",
       "  </thead>\n",
       "  <tbody>\n",
       "  </tbody>\n",
       "</table>\n",
       "</div>"
      ],
      "text/plain": [
       "Empty DataFrame\n",
       "Columns: [user_id, item_id, item_name, playtime_forever, playtime_2weeks]\n",
       "Index: []"
      ]
     },
     "execution_count": 316,
     "metadata": {},
     "output_type": "execute_result"
    }
   ],
   "source": [
    "items[items['item_id'].isna()]"
   ]
  },
  {
   "cell_type": "markdown",
   "metadata": {},
   "source": [
    "#### Transformaciones generales"
   ]
  },
  {
   "cell_type": "code",
   "execution_count": null,
   "metadata": {},
   "outputs": [],
   "source": [
    "games['title'].info()\n",
    "games['app_name'].info()\n",
    "# Son columnas similares. En este caso la columna que voy a dejar es app_name porque posee menor cantidad de datos vacios: 2."
   ]
  },
  {
   "cell_type": "code",
   "execution_count": null,
   "metadata": {},
   "outputs": [],
   "source": [
    "# Prueba para rellenar valores faltantes de genres\n",
    "prueba = games[['genres','tags']].loc[88313:88320]\n",
    "prueba['genres'] = prueba['genres'].combine_first(prueba['tags'])\n",
    "prueba"
   ]
  },
  {
   "cell_type": "code",
   "execution_count": null,
   "metadata": {},
   "outputs": [],
   "source": [
    "games['genres'] = games['genres'].combine_first(games['tags']) # a cada valor faltante de genres le hara corresponder lo que figure en tags\n",
    "games.drop(columns=['publisher'])"
   ]
  },
  {
   "cell_type": "code",
   "execution_count": null,
   "metadata": {},
   "outputs": [],
   "source": [
    "# Tratamiento de registros vacíos\n",
    "print(f\"El tamaño inicial del dataset games es: \\n{games.shape}\")\n",
    "print(f\"El tamaño inicial del dataset reviews es: \\n{reviews.shape}\")\n",
    "print(f\"El tamaño inicial del dataset items es: \\n{items.shape}\")\n",
    "\n",
    "games.dropna(how='all', inplace=True)\n",
    "reviews.dropna(how='all', inplace=True)\n",
    "items.dropna(how='all', inplace=True)\n",
    "\n",
    "print(f\"Removiendo los registros completamente vacíos nos quedaran con un tamaño de \\n games: {games.shape}\")\n",
    "print(f\"Removiendo los registros completamente vacíos nos quedaran con un tamaño de \\n reviews: {reviews.shape}\")\n",
    "print(f\"Removiendo los registros completamente vacíos nos quedaran con un tamaño de \\n items: {items.shape}\")"
   ]
  },
  {
   "cell_type": "code",
   "execution_count": null,
   "metadata": {},
   "outputs": [],
   "source": [
    "# Tratamiento de registros duplicados\n",
    "print(f\"El tamaño del dataset games previo a realizar limpieza de registros duplicados es: {games.shape}\")\n",
    "print(f\"El tamaño del dataset reviews previo a realizar limpieza de registros duplicados es: {reviews.shape}\")\n",
    "print(f\"El tamaño del dataset items previo a realizar limpieza de registros duplicados es: {items.shape}\")\n",
    "\n",
    "games.drop_duplicates(subset=['publisher', 'app_name', 'title', 'url', 'release_date', 'reviews_url', 'price', 'early_access', 'id','developer'])\n",
    "reviews.drop_duplicates()\n",
    "items.drop_duplicates()\n",
    "\n",
    "print(f\"El tamaño del dataset games luego de realizar limpieza de registros duplicados es: {games.shape}\")\n",
    "print(f\"El tamaño del dataset reviews luego de realizar limpieza de registros duplicados es: {reviews.shape}\")\n",
    "print(f\"El tamaño del dataset items luego de realizar limpieza de registros duplicados es: {items.shape}\")"
   ]
  },
  {
   "cell_type": "markdown",
   "metadata": {},
   "source": [
    "#### 3. Carga o disponibilización de datos"
   ]
  },
  {
   "cell_type": "markdown",
   "metadata": {},
   "source": [
    "#### 3.1 PlayTimeGenre:  Debe devolver año con mas horas jugadas para dicho género.\n",
    "Ejemplo de retorno: {\"Año de lanzamiento con más horas jugadas para Género X\" : 2013}"
   ]
  },
  {
   "cell_type": "code",
   "execution_count": null,
   "metadata": {},
   "outputs": [],
   "source": [
    "games.tail()"
   ]
  },
  {
   "cell_type": "code",
   "execution_count": null,
   "metadata": {},
   "outputs": [],
   "source": [
    "reviews.head()"
   ]
  },
  {
   "cell_type": "code",
   "execution_count": null,
   "metadata": {},
   "outputs": [],
   "source": [
    "items.head()"
   ]
  },
  {
   "cell_type": "markdown",
   "metadata": {},
   "source": [
    "#### 3.2 UsersForGenre: Debe devolver el usuario que acumula más horas jugadas para el género dado y una lista de la acumulación de horas jugadas por año.\n",
    "Ejemplo de retorno: {\"Usuario con más horas jugadas para Género X\" : us213ndjss09sdf, \"Horas jugadas\":[{Año: 2013, Horas: 203}, {Año: 2012, Horas: 100}, {Año: 2011, Horas: 23}]}"
   ]
  },
  {
   "cell_type": "code",
   "execution_count": null,
   "metadata": {},
   "outputs": [],
   "source": [
    "items[['user_id','item_id','playtime_forever']].head()"
   ]
  }
 ],
 "metadata": {
  "kernelspec": {
   "display_name": "sist_rec_juegos-env",
   "language": "python",
   "name": "python3"
  },
  "language_info": {
   "codemirror_mode": {
    "name": "ipython",
    "version": 3
   },
   "file_extension": ".py",
   "mimetype": "text/x-python",
   "name": "python",
   "nbconvert_exporter": "python",
   "pygments_lexer": "ipython3",
   "version": "3.11.1"
  }
 },
 "nbformat": 4,
 "nbformat_minor": 2
}
