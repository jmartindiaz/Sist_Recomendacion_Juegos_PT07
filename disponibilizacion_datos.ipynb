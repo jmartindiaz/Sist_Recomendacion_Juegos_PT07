{
 "cells": [
  {
   "cell_type": "code",
   "execution_count": 7,
   "metadata": {},
   "outputs": [],
   "source": [
    "# Librerias necesarias\n",
    "import pandas as pd\n",
    "import numpy as np\n",
    "import json\n",
    "import ast\n",
    "import gzip"
   ]
  },
  {
   "cell_type": "code",
   "execution_count": 8,
   "metadata": {},
   "outputs": [
    {
     "data": {
      "text/plain": [
       "(120445, 13)"
      ]
     },
     "execution_count": 8,
     "metadata": {},
     "output_type": "execute_result"
    }
   ],
   "source": [
    "# Rutas de los datos:\n",
    "ruta_games='Datasets originales/steam_games.json.gz'\n",
    "ruta_reviews='Datasets originales/user_reviews.json.gz'\n",
    "ruta_items='Datasets originales/users_items.json.gz'\n",
    "\n",
    "## Games:\n",
    "games_orig = []\n",
    "with gzip.open(ruta_games, 'rt', encoding='utf-8') as archivo:\n",
    "    lineas = archivo.readlines()\n",
    "    for linea in lineas:\n",
    "        games_orig.append(linea) \n",
    "\n",
    "# Quitamos el '\\n' al final de cada linea:\n",
    "for i in range(0,len(games_orig)):\n",
    "    games_orig[i]= games_orig[i].replace(\"\\n\",\"\")\n",
    "# Transformo cada una de las cadenas a diccionario de Python:\n",
    "for i in range(0,len(games_orig)):\n",
    "    games_orig[i]= json.loads(games_orig[i])\n",
    "    \n",
    "# Transformamos a DataFrame:\n",
    "games_orig = pd.DataFrame(games_orig)\n",
    "games_orig.shape"
   ]
  },
  {
   "cell_type": "code",
   "execution_count": 9,
   "metadata": {},
   "outputs": [
    {
     "data": {
      "text/plain": [
       "(25799, 3)"
      ]
     },
     "execution_count": 9,
     "metadata": {},
     "output_type": "execute_result"
    }
   ],
   "source": [
    "## Reviews:\n",
    "reviews = []\n",
    "with gzip.open(ruta_reviews, 'rb') as archivo:\n",
    "    for linea in archivo:\n",
    "        reviews.append(ast.literal_eval(linea.decode('utf-8')))\n",
    "reviews_orig = pd.DataFrame(reviews)\n",
    "archivo.close()\n",
    "reviews_orig.shape"
   ]
  },
  {
   "cell_type": "code",
   "execution_count": 5,
   "metadata": {},
   "outputs": [
    {
     "data": {
      "text/plain": [
       "(88310, 5)"
      ]
     },
     "execution_count": 5,
     "metadata": {},
     "output_type": "execute_result"
    }
   ],
   "source": [
    "## Items:\n",
    "items = []\n",
    "with gzip.open(ruta_items, 'rt', encoding=\"utf-8\") as archivo:\n",
    "    lineas = archivo.readlines()\n",
    "for linea in lineas:\n",
    "    items.append(ast.literal_eval(linea))\n",
    "    \n",
    "# Transformamos a DataFrame:\n",
    "items_orig = pd.DataFrame(items)\n",
    "items_orig.shape"
   ]
  },
  {
   "cell_type": "code",
   "execution_count": null,
   "metadata": {},
   "outputs": [],
   "source": [
    "games = games_orig.copy()\n",
    "reviews = reviews_orig.copy()\n",
    "items = items_orig.copy()"
   ]
  }
 ],
 "metadata": {
  "kernelspec": {
   "display_name": "sist_rec_juegos-env",
   "language": "python",
   "name": "python3"
  },
  "language_info": {
   "codemirror_mode": {
    "name": "ipython",
    "version": 3
   },
   "file_extension": ".py",
   "mimetype": "text/x-python",
   "name": "python",
   "nbconvert_exporter": "python",
   "pygments_lexer": "ipython3",
   "version": "3.11.1"
  }
 },
 "nbformat": 4,
 "nbformat_minor": 2
}
