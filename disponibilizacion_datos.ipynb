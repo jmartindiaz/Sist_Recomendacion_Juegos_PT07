{
 "cells": [
  {
   "cell_type": "code",
   "execution_count": 2,
   "metadata": {},
   "outputs": [
    {
     "name": "stderr",
     "output_type": "stream",
     "text": [
      "C:\\Users\\Martin\\AppData\\Local\\Temp\\ipykernel_15780\\4171661857.py:2: DeprecationWarning: \n",
      "Pyarrow will become a required dependency of pandas in the next major release of pandas (pandas 3.0),\n",
      "(to allow more performant data types, such as the Arrow string type, and better interoperability with other libraries)\n",
      "but was not found to be installed on your system.\n",
      "If this would cause problems for you,\n",
      "please provide us feedback at https://github.com/pandas-dev/pandas/issues/54466\n",
      "        \n",
      "  import pandas as pd\n"
     ]
    }
   ],
   "source": [
    "# Librerias necesarias\n",
    "import pandas as pd\n",
    "import numpy as np\n",
    "import json\n",
    "import ast\n",
    "import gzip"
   ]
  },
  {
   "cell_type": "markdown",
   "metadata": {},
   "source": [
    "#### 1. Extracción"
   ]
  },
  {
   "cell_type": "code",
   "execution_count": 3,
   "metadata": {},
   "outputs": [],
   "source": [
    "# Rutas de los datos:\n",
    "ruta_games= 'Datasets originales/steam_games.json.gz'\n",
    "ruta_user_reviews= 'Datasets originales/user_reviews.json.gz'\n",
    "ruta_user_items= 'Datasets originales/users_items.json.gz'"
   ]
  },
  {
   "cell_type": "code",
   "execution_count": 8,
   "metadata": {},
   "outputs": [
    {
     "data": {
      "text/plain": [
       "(120445, 13)"
      ]
     },
     "execution_count": 8,
     "metadata": {},
     "output_type": "execute_result"
    }
   ],
   "source": [
    "## Games:\n",
    "games_orig = []\n",
    "with gzip.open(ruta_games, 'rt', encoding='utf-8') as archivo_comprimido:\n",
    "    for linea in archivo_comprimido:\n",
    "        diccionario = json.loads(linea)\n",
    "        games_orig.append(diccionario)\n",
    "\n",
    "# Transformamos a DataFrame:\n",
    "games_orig = pd.DataFrame(games_orig)\n",
    "games_orig.shape"
   ]
  },
  {
   "cell_type": "code",
   "execution_count": 10,
   "metadata": {},
   "outputs": [
    {
     "data": {
      "text/plain": [
       "(25799, 3)"
      ]
     },
     "execution_count": 10,
     "metadata": {},
     "output_type": "execute_result"
    }
   ],
   "source": [
    "## Reviews:\n",
    "user_reviews = []\n",
    "with gzip.open(ruta_user_reviews, 'rt', encoding=\"utf-8\") as archivo_comprimido:\n",
    "    for linea in archivo_comprimido:\n",
    "        user_reviews.append(ast.literal_eval(linea))\n",
    "    \n",
    "# Transformamos a DataFrame:\n",
    "user_reviews_orig = pd.DataFrame(user_reviews)\n",
    "user_reviews_orig.shape"
   ]
  },
  {
   "cell_type": "code",
   "execution_count": 11,
   "metadata": {},
   "outputs": [
    {
     "data": {
      "text/plain": [
       "(88310, 5)"
      ]
     },
     "execution_count": 11,
     "metadata": {},
     "output_type": "execute_result"
    }
   ],
   "source": [
    "## Items:\n",
    "user_items = []\n",
    "with gzip.open(ruta_user_items, 'rt', encoding=\"utf-8\") as archivo_comprimido:\n",
    "    for linea in archivo_comprimido:\n",
    "        user_items.append(ast.literal_eval(linea))\n",
    "    \n",
    "# Transformamos a DataFrame:\n",
    "user_items_orig = pd.DataFrame(user_items)\n",
    "user_items_orig.shape"
   ]
  },
  {
   "cell_type": "code",
   "execution_count": 12,
   "metadata": {},
   "outputs": [],
   "source": [
    "games = games_orig.copy()\n",
    "user_reviews = user_reviews_orig.copy()\n",
    "user_items = user_items_orig.copy()"
   ]
  },
  {
   "cell_type": "markdown",
   "metadata": {},
   "source": [
    "#### 2. Transformación"
   ]
  },
  {
   "cell_type": "code",
   "execution_count": 25,
   "metadata": {},
   "outputs": [
    {
     "data": {
      "text/html": [
       "<div>\n",
       "<style scoped>\n",
       "    .dataframe tbody tr th:only-of-type {\n",
       "        vertical-align: middle;\n",
       "    }\n",
       "\n",
       "    .dataframe tbody tr th {\n",
       "        vertical-align: top;\n",
       "    }\n",
       "\n",
       "    .dataframe thead th {\n",
       "        text-align: right;\n",
       "    }\n",
       "</style>\n",
       "<table border=\"1\" class=\"dataframe\">\n",
       "  <thead>\n",
       "    <tr style=\"text-align: right;\">\n",
       "      <th></th>\n",
       "      <th>user_id</th>\n",
       "      <th>reviews</th>\n",
       "    </tr>\n",
       "  </thead>\n",
       "  <tbody>\n",
       "    <tr>\n",
       "      <th>0</th>\n",
       "      <td>76561197970982479</td>\n",
       "      <td>[{'funny': '', 'posted': 'Posted November 5, 2...</td>\n",
       "    </tr>\n",
       "    <tr>\n",
       "      <th>1</th>\n",
       "      <td>js41637</td>\n",
       "      <td>[{'funny': '', 'posted': 'Posted June 24, 2014...</td>\n",
       "    </tr>\n",
       "    <tr>\n",
       "      <th>2</th>\n",
       "      <td>evcentric</td>\n",
       "      <td>[{'funny': '', 'posted': 'Posted February 3.',...</td>\n",
       "    </tr>\n",
       "    <tr>\n",
       "      <th>3</th>\n",
       "      <td>doctr</td>\n",
       "      <td>[{'funny': '', 'posted': 'Posted October 14, 2...</td>\n",
       "    </tr>\n",
       "    <tr>\n",
       "      <th>4</th>\n",
       "      <td>maplemage</td>\n",
       "      <td>[{'funny': '3 people found this review funny',...</td>\n",
       "    </tr>\n",
       "  </tbody>\n",
       "</table>\n",
       "</div>"
      ],
      "text/plain": [
       "             user_id                                            reviews\n",
       "0  76561197970982479  [{'funny': '', 'posted': 'Posted November 5, 2...\n",
       "1            js41637  [{'funny': '', 'posted': 'Posted June 24, 2014...\n",
       "2          evcentric  [{'funny': '', 'posted': 'Posted February 3.',...\n",
       "3              doctr  [{'funny': '', 'posted': 'Posted October 14, 2...\n",
       "4          maplemage  [{'funny': '3 people found this review funny',..."
      ]
     },
     "execution_count": 25,
     "metadata": {},
     "output_type": "execute_result"
    }
   ],
   "source": [
    "# Extraigo solo las columnas que voy a usar\n",
    "\n",
    "reviews = user_reviews[['user_id','reviews']]\n",
    "reviews.head()"
   ]
  },
  {
   "cell_type": "code",
   "execution_count": 26,
   "metadata": {},
   "outputs": [],
   "source": [
    "# Desanidamos reviews:\n",
    "\n",
    "reviews_explode = reviews.explode('reviews', ignore_index=True) # separo en filas todos todos los json que estan listados en cada registro\n",
    "reviews_desanidado = pd.json_normalize(reviews_explode['reviews']) # transformo a tabla cada uno de los json que tenemos en cada registro\n",
    "reviews = pd.concat([reviews_explode,reviews_desanidado], axis=1).drop(columns=['reviews']) # concateno ambos dataframes y dropeo la columna reviews que está anidada"
   ]
  },
  {
   "cell_type": "code",
   "execution_count": 27,
   "metadata": {},
   "outputs": [
    {
     "data": {
      "text/html": [
       "<div>\n",
       "<style scoped>\n",
       "    .dataframe tbody tr th:only-of-type {\n",
       "        vertical-align: middle;\n",
       "    }\n",
       "\n",
       "    .dataframe tbody tr th {\n",
       "        vertical-align: top;\n",
       "    }\n",
       "\n",
       "    .dataframe thead th {\n",
       "        text-align: right;\n",
       "    }\n",
       "</style>\n",
       "<table border=\"1\" class=\"dataframe\">\n",
       "  <thead>\n",
       "    <tr style=\"text-align: right;\">\n",
       "      <th></th>\n",
       "      <th>user_id</th>\n",
       "      <th>items</th>\n",
       "    </tr>\n",
       "  </thead>\n",
       "  <tbody>\n",
       "    <tr>\n",
       "      <th>0</th>\n",
       "      <td>76561197970982479</td>\n",
       "      <td>[{'item_id': '10', 'item_name': 'Counter-Strik...</td>\n",
       "    </tr>\n",
       "    <tr>\n",
       "      <th>1</th>\n",
       "      <td>js41637</td>\n",
       "      <td>[{'item_id': '10', 'item_name': 'Counter-Strik...</td>\n",
       "    </tr>\n",
       "    <tr>\n",
       "      <th>2</th>\n",
       "      <td>evcentric</td>\n",
       "      <td>[{'item_id': '1200', 'item_name': 'Red Orchest...</td>\n",
       "    </tr>\n",
       "    <tr>\n",
       "      <th>3</th>\n",
       "      <td>Riot-Punch</td>\n",
       "      <td>[{'item_id': '10', 'item_name': 'Counter-Strik...</td>\n",
       "    </tr>\n",
       "    <tr>\n",
       "      <th>4</th>\n",
       "      <td>doctr</td>\n",
       "      <td>[{'item_id': '300', 'item_name': 'Day of Defea...</td>\n",
       "    </tr>\n",
       "  </tbody>\n",
       "</table>\n",
       "</div>"
      ],
      "text/plain": [
       "             user_id                                              items\n",
       "0  76561197970982479  [{'item_id': '10', 'item_name': 'Counter-Strik...\n",
       "1            js41637  [{'item_id': '10', 'item_name': 'Counter-Strik...\n",
       "2          evcentric  [{'item_id': '1200', 'item_name': 'Red Orchest...\n",
       "3         Riot-Punch  [{'item_id': '10', 'item_name': 'Counter-Strik...\n",
       "4              doctr  [{'item_id': '300', 'item_name': 'Day of Defea..."
      ]
     },
     "execution_count": 27,
     "metadata": {},
     "output_type": "execute_result"
    }
   ],
   "source": [
    "# Extraigo solo las columnas que voy a usar:\n",
    "items = user_items[['user_id','items']]\n",
    "items.head()"
   ]
  },
  {
   "cell_type": "code",
   "execution_count": 28,
   "metadata": {},
   "outputs": [],
   "source": [
    "# Desanidamos items:\n",
    "\n",
    "items_explode = items.explode('items', ignore_index=True) # separo en filas todos todos los json que estan listados en cada registro\n",
    "items_desanidado = pd.json_normalize(items_explode['items']) # transformo a tabla cada uno de los json que tenemos en cada registro\n",
    "items = pd.concat([items_explode,items_desanidado], axis=1).drop(columns=['items']) # concateno ambos dataframes y dropeo la columna items que está anidada"
   ]
  },
  {
   "cell_type": "markdown",
   "metadata": {},
   "source": [
    "Ahora tenemos 3 tablas con las que trabajaremos: `games`, `reviews` e `items`"
   ]
  },
  {
   "cell_type": "markdown",
   "metadata": {},
   "source": [
    "#### Transformaciones generales"
   ]
  },
  {
   "cell_type": "code",
   "execution_count": 54,
   "metadata": {},
   "outputs": [
    {
     "name": "stdout",
     "output_type": "stream",
     "text": [
      "<class 'pandas.core.series.Series'>\n",
      "Index: 32135 entries, 88310 to 120444\n",
      "Series name: title\n",
      "Non-Null Count  Dtype \n",
      "--------------  ----- \n",
      "30085 non-null  object\n",
      "dtypes: object(1)\n",
      "memory usage: 502.1+ KB\n",
      "<class 'pandas.core.series.Series'>\n",
      "Index: 32135 entries, 88310 to 120444\n",
      "Series name: app_name\n",
      "Non-Null Count  Dtype \n",
      "--------------  ----- \n",
      "32133 non-null  object\n",
      "dtypes: object(1)\n",
      "memory usage: 502.1+ KB\n"
     ]
    }
   ],
   "source": [
    "games['title'].info()\n",
    "games['app_name'].info()\n",
    "# Son columnas similares. En este caso la columna que voy a dejar es app_name porque posee menor cantidad de datos vacios: 2."
   ]
  },
  {
   "cell_type": "code",
   "execution_count": 63,
   "metadata": {},
   "outputs": [
    {
     "data": {
      "text/html": [
       "<div>\n",
       "<style scoped>\n",
       "    .dataframe tbody tr th:only-of-type {\n",
       "        vertical-align: middle;\n",
       "    }\n",
       "\n",
       "    .dataframe tbody tr th {\n",
       "        vertical-align: top;\n",
       "    }\n",
       "\n",
       "    .dataframe thead th {\n",
       "        text-align: right;\n",
       "    }\n",
       "</style>\n",
       "<table border=\"1\" class=\"dataframe\">\n",
       "  <thead>\n",
       "    <tr style=\"text-align: right;\">\n",
       "      <th></th>\n",
       "      <th>genres</th>\n",
       "      <th>tags</th>\n",
       "    </tr>\n",
       "  </thead>\n",
       "  <tbody>\n",
       "    <tr>\n",
       "      <th>88313</th>\n",
       "      <td>[Action, Adventure, Casual]</td>\n",
       "      <td>[Action, Adventure, Casual]</td>\n",
       "    </tr>\n",
       "    <tr>\n",
       "      <th>88314</th>\n",
       "      <td>[Action, Indie, Casual, Sports]</td>\n",
       "      <td>[Action, Indie, Casual, Sports]</td>\n",
       "    </tr>\n",
       "    <tr>\n",
       "      <th>88315</th>\n",
       "      <td>[Action, Adventure, Simulation]</td>\n",
       "      <td>[Action, Adventure, Simulation, FPS, Shooter, ...</td>\n",
       "    </tr>\n",
       "    <tr>\n",
       "      <th>88316</th>\n",
       "      <td>[Free to Play, Indie, Simulation, Sports]</td>\n",
       "      <td>[Free to Play, Indie, Simulation, Sports]</td>\n",
       "    </tr>\n",
       "    <tr>\n",
       "      <th>88317</th>\n",
       "      <td>[Free to Play, Indie, Simulation, Sports]</td>\n",
       "      <td>[Free to Play, Indie, Simulation, Sports]</td>\n",
       "    </tr>\n",
       "    <tr>\n",
       "      <th>88318</th>\n",
       "      <td>[Free to Play, Indie, Simulation, Sports]</td>\n",
       "      <td>[Free to Play, Indie, Simulation, Sports]</td>\n",
       "    </tr>\n",
       "    <tr>\n",
       "      <th>88319</th>\n",
       "      <td>[Casual, Indie, Racing, Simulation]</td>\n",
       "      <td>[Indie, Casual, Simulation, Racing]</td>\n",
       "    </tr>\n",
       "    <tr>\n",
       "      <th>88320</th>\n",
       "      <td>[Action, Indie, Simulation, Early Access]</td>\n",
       "      <td>[Early Access, Action, Indie, Simulation, Surv...</td>\n",
       "    </tr>\n",
       "  </tbody>\n",
       "</table>\n",
       "</div>"
      ],
      "text/plain": [
       "                                          genres  \\\n",
       "88313                [Action, Adventure, Casual]   \n",
       "88314            [Action, Indie, Casual, Sports]   \n",
       "88315            [Action, Adventure, Simulation]   \n",
       "88316  [Free to Play, Indie, Simulation, Sports]   \n",
       "88317  [Free to Play, Indie, Simulation, Sports]   \n",
       "88318  [Free to Play, Indie, Simulation, Sports]   \n",
       "88319        [Casual, Indie, Racing, Simulation]   \n",
       "88320  [Action, Indie, Simulation, Early Access]   \n",
       "\n",
       "                                                    tags  \n",
       "88313                        [Action, Adventure, Casual]  \n",
       "88314                    [Action, Indie, Casual, Sports]  \n",
       "88315  [Action, Adventure, Simulation, FPS, Shooter, ...  \n",
       "88316          [Free to Play, Indie, Simulation, Sports]  \n",
       "88317          [Free to Play, Indie, Simulation, Sports]  \n",
       "88318          [Free to Play, Indie, Simulation, Sports]  \n",
       "88319                [Indie, Casual, Simulation, Racing]  \n",
       "88320  [Early Access, Action, Indie, Simulation, Surv...  "
      ]
     },
     "execution_count": 63,
     "metadata": {},
     "output_type": "execute_result"
    }
   ],
   "source": [
    "# Prueba para rellenar valores faltantes de genres\n",
    "prueba = games[['genres','tags']].loc[88313:88320]\n",
    "prueba['genres'] = prueba['genres'].combine_first(prueba['tags'])\n",
    "prueba"
   ]
  },
  {
   "cell_type": "code",
   "execution_count": 49,
   "metadata": {},
   "outputs": [
    {
     "name": "stdout",
     "output_type": "stream",
     "text": [
      "<class 'pandas.core.series.Series'>\n",
      "Index: 32135 entries, 88310 to 120444\n",
      "Series name: title\n",
      "Non-Null Count  Dtype \n",
      "--------------  ----- \n",
      "30085 non-null  object\n",
      "dtypes: object(1)\n",
      "memory usage: 502.1+ KB\n",
      "<class 'pandas.core.series.Series'>\n",
      "Index: 32135 entries, 88310 to 120444\n",
      "Series name: app_name\n",
      "Non-Null Count  Dtype \n",
      "--------------  ----- \n",
      "32133 non-null  object\n",
      "dtypes: object(1)\n",
      "memory usage: 502.1+ KB\n"
     ]
    }
   ],
   "source": [
    "games['genres'] = games['genres'].combine_first(games['tags']) # a cada valor faltante de genres le hara corresponder lo que figure en tags\n",
    "games.drop(columns=['publisher'])"
   ]
  },
  {
   "cell_type": "code",
   "execution_count": 40,
   "metadata": {},
   "outputs": [
    {
     "name": "stdout",
     "output_type": "stream",
     "text": [
      "El tamaño inicial del dataset games es: \n",
      "(32135, 13)\n",
      "El tamaño inicial del dataset reviews es: \n",
      "(59333, 8)\n",
      "El tamaño inicial del dataset items es: \n",
      "(5170015, 5)\n",
      "Removiendo los registros completamente vacíos nos quedaran con un tamaño de \n",
      " games: (32135, 13)\n",
      "Removiendo los registros completamente vacíos nos quedaran con un tamaño de \n",
      " reviews: (59333, 8)\n",
      "Removiendo los registros completamente vacíos nos quedaran con un tamaño de \n",
      " items: (5170015, 5)\n"
     ]
    }
   ],
   "source": [
    "# Tratamiento de registros vacíos\n",
    "print(f\"El tamaño inicial del dataset games es: \\n{games.shape}\")\n",
    "print(f\"El tamaño inicial del dataset reviews es: \\n{reviews.shape}\")\n",
    "print(f\"El tamaño inicial del dataset items es: \\n{items.shape}\")\n",
    "\n",
    "games.dropna(how='all', inplace=True)\n",
    "reviews.dropna(how='all', inplace=True)\n",
    "items.dropna(how='all', inplace=True)\n",
    "\n",
    "print(f\"Removiendo los registros completamente vacíos nos quedaran con un tamaño de \\n games: {games.shape}\")\n",
    "print(f\"Removiendo los registros completamente vacíos nos quedaran con un tamaño de \\n reviews: {reviews.shape}\")\n",
    "print(f\"Removiendo los registros completamente vacíos nos quedaran con un tamaño de \\n items: {items.shape}\")"
   ]
  },
  {
   "cell_type": "code",
   "execution_count": 45,
   "metadata": {},
   "outputs": [
    {
     "name": "stdout",
     "output_type": "stream",
     "text": [
      "El tamaño del dataset games previo a realizar limpieza de registros duplicados es: (32135, 13)\n",
      "El tamaño del dataset reviews previo a realizar limpieza de registros duplicados es: (59333, 8)\n",
      "El tamaño del dataset items previo a realizar limpieza de registros duplicados es: (5170015, 5)\n",
      "El tamaño del dataset games luego de realizar limpieza de registros duplicados es: (32135, 13)\n",
      "El tamaño del dataset reviews luego de realizar limpieza de registros duplicados es: (59333, 8)\n",
      "El tamaño del dataset items luego de realizar limpieza de registros duplicados es: (5170015, 5)\n"
     ]
    }
   ],
   "source": [
    "# Tratamiento de registros duplicados\n",
    "print(f\"El tamaño del dataset games previo a realizar limpieza de registros duplicados es: {games.shape}\")\n",
    "print(f\"El tamaño del dataset reviews previo a realizar limpieza de registros duplicados es: {reviews.shape}\")\n",
    "print(f\"El tamaño del dataset items previo a realizar limpieza de registros duplicados es: {items.shape}\")\n",
    "\n",
    "games.drop_duplicates(subset=['publisher', 'app_name', 'title', 'url', 'release_date', 'reviews_url', 'price', 'early_access', 'id','developer'])\n",
    "reviews.drop_duplicates()\n",
    "items.drop_duplicates()\n",
    "\n",
    "print(f\"El tamaño del dataset games luego de realizar limpieza de registros duplicados es: {games.shape}\")\n",
    "print(f\"El tamaño del dataset reviews luego de realizar limpieza de registros duplicados es: {reviews.shape}\")\n",
    "print(f\"El tamaño del dataset items luego de realizar limpieza de registros duplicados es: {items.shape}\")"
   ]
  },
  {
   "cell_type": "markdown",
   "metadata": {},
   "source": [
    "#### Las tablas que finalmente utilizaremos son: ***games***, ***reviews*** e ***items***"
   ]
  },
  {
   "cell_type": "markdown",
   "metadata": {},
   "source": [
    "#### 3. Carga o disponibilización de datos"
   ]
  },
  {
   "cell_type": "markdown",
   "metadata": {},
   "source": [
    "#### 3.1 PlayTimeGenre:  Debe devolver año con mas horas jugadas para dicho género.\n",
    "Ejemplo de retorno: {\"Año de lanzamiento con más horas jugadas para Género X\" : 2013}"
   ]
  },
  {
   "cell_type": "code",
   "execution_count": 28,
   "metadata": {},
   "outputs": [
    {
     "data": {
      "text/html": [
       "<div>\n",
       "<style scoped>\n",
       "    .dataframe tbody tr th:only-of-type {\n",
       "        vertical-align: middle;\n",
       "    }\n",
       "\n",
       "    .dataframe tbody tr th {\n",
       "        vertical-align: top;\n",
       "    }\n",
       "\n",
       "    .dataframe thead th {\n",
       "        text-align: right;\n",
       "    }\n",
       "</style>\n",
       "<table border=\"1\" class=\"dataframe\">\n",
       "  <thead>\n",
       "    <tr style=\"text-align: right;\">\n",
       "      <th></th>\n",
       "      <th>publisher</th>\n",
       "      <th>genres</th>\n",
       "      <th>app_name</th>\n",
       "      <th>title</th>\n",
       "      <th>url</th>\n",
       "      <th>release_date</th>\n",
       "      <th>tags</th>\n",
       "      <th>reviews_url</th>\n",
       "      <th>specs</th>\n",
       "      <th>price</th>\n",
       "      <th>early_access</th>\n",
       "      <th>id</th>\n",
       "      <th>developer</th>\n",
       "    </tr>\n",
       "  </thead>\n",
       "  <tbody>\n",
       "    <tr>\n",
       "      <th>120440</th>\n",
       "      <td>Ghost_RUS Games</td>\n",
       "      <td>[Casual, Indie, Simulation, Strategy]</td>\n",
       "      <td>Colony On Mars</td>\n",
       "      <td>Colony On Mars</td>\n",
       "      <td>http://store.steampowered.com/app/773640/Colon...</td>\n",
       "      <td>2018-01-04</td>\n",
       "      <td>[Strategy, Indie, Casual, Simulation]</td>\n",
       "      <td>http://steamcommunity.com/app/773640/reviews/?...</td>\n",
       "      <td>[Single-player, Steam Achievements]</td>\n",
       "      <td>1.99</td>\n",
       "      <td>False</td>\n",
       "      <td>773640</td>\n",
       "      <td>Nikita \"Ghost_RUS\"</td>\n",
       "    </tr>\n",
       "    <tr>\n",
       "      <th>120441</th>\n",
       "      <td>Sacada</td>\n",
       "      <td>[Casual, Indie, Strategy]</td>\n",
       "      <td>LOGistICAL: South Africa</td>\n",
       "      <td>LOGistICAL: South Africa</td>\n",
       "      <td>http://store.steampowered.com/app/733530/LOGis...</td>\n",
       "      <td>2018-01-04</td>\n",
       "      <td>[Strategy, Indie, Casual]</td>\n",
       "      <td>http://steamcommunity.com/app/733530/reviews/?...</td>\n",
       "      <td>[Single-player, Steam Achievements, Steam Clou...</td>\n",
       "      <td>4.99</td>\n",
       "      <td>False</td>\n",
       "      <td>733530</td>\n",
       "      <td>Sacada</td>\n",
       "    </tr>\n",
       "    <tr>\n",
       "      <th>120442</th>\n",
       "      <td>Laush Studio</td>\n",
       "      <td>[Indie, Racing, Simulation]</td>\n",
       "      <td>Russian Roads</td>\n",
       "      <td>Russian Roads</td>\n",
       "      <td>http://store.steampowered.com/app/610660/Russi...</td>\n",
       "      <td>2018-01-04</td>\n",
       "      <td>[Indie, Simulation, Racing]</td>\n",
       "      <td>http://steamcommunity.com/app/610660/reviews/?...</td>\n",
       "      <td>[Single-player, Steam Achievements, Steam Trad...</td>\n",
       "      <td>1.99</td>\n",
       "      <td>False</td>\n",
       "      <td>610660</td>\n",
       "      <td>Laush Dmitriy Sergeevich</td>\n",
       "    </tr>\n",
       "    <tr>\n",
       "      <th>120443</th>\n",
       "      <td>SIXNAILS</td>\n",
       "      <td>[Casual, Indie]</td>\n",
       "      <td>EXIT 2 - Directions</td>\n",
       "      <td>EXIT 2 - Directions</td>\n",
       "      <td>http://store.steampowered.com/app/658870/EXIT_...</td>\n",
       "      <td>2017-09-02</td>\n",
       "      <td>[Indie, Casual, Puzzle, Singleplayer, Atmosphe...</td>\n",
       "      <td>http://steamcommunity.com/app/658870/reviews/?...</td>\n",
       "      <td>[Single-player, Steam Achievements, Steam Cloud]</td>\n",
       "      <td>4.99</td>\n",
       "      <td>False</td>\n",
       "      <td>658870</td>\n",
       "      <td>xropi,stev3ns</td>\n",
       "    </tr>\n",
       "    <tr>\n",
       "      <th>120444</th>\n",
       "      <td>NaN</td>\n",
       "      <td>NaN</td>\n",
       "      <td>Maze Run VR</td>\n",
       "      <td>NaN</td>\n",
       "      <td>http://store.steampowered.com/app/681550/Maze_...</td>\n",
       "      <td>NaN</td>\n",
       "      <td>[Early Access, Adventure, Indie, Action, Simul...</td>\n",
       "      <td>http://steamcommunity.com/app/681550/reviews/?...</td>\n",
       "      <td>[Single-player, Stats, Steam Leaderboards, HTC...</td>\n",
       "      <td>4.99</td>\n",
       "      <td>True</td>\n",
       "      <td>681550</td>\n",
       "      <td>NaN</td>\n",
       "    </tr>\n",
       "  </tbody>\n",
       "</table>\n",
       "</div>"
      ],
      "text/plain": [
       "              publisher                                 genres  \\\n",
       "120440  Ghost_RUS Games  [Casual, Indie, Simulation, Strategy]   \n",
       "120441           Sacada              [Casual, Indie, Strategy]   \n",
       "120442     Laush Studio            [Indie, Racing, Simulation]   \n",
       "120443         SIXNAILS                        [Casual, Indie]   \n",
       "120444              NaN                                    NaN   \n",
       "\n",
       "                        app_name                     title  \\\n",
       "120440            Colony On Mars            Colony On Mars   \n",
       "120441  LOGistICAL: South Africa  LOGistICAL: South Africa   \n",
       "120442             Russian Roads             Russian Roads   \n",
       "120443       EXIT 2 - Directions       EXIT 2 - Directions   \n",
       "120444               Maze Run VR                       NaN   \n",
       "\n",
       "                                                      url release_date  \\\n",
       "120440  http://store.steampowered.com/app/773640/Colon...   2018-01-04   \n",
       "120441  http://store.steampowered.com/app/733530/LOGis...   2018-01-04   \n",
       "120442  http://store.steampowered.com/app/610660/Russi...   2018-01-04   \n",
       "120443  http://store.steampowered.com/app/658870/EXIT_...   2017-09-02   \n",
       "120444  http://store.steampowered.com/app/681550/Maze_...          NaN   \n",
       "\n",
       "                                                     tags  \\\n",
       "120440              [Strategy, Indie, Casual, Simulation]   \n",
       "120441                          [Strategy, Indie, Casual]   \n",
       "120442                        [Indie, Simulation, Racing]   \n",
       "120443  [Indie, Casual, Puzzle, Singleplayer, Atmosphe...   \n",
       "120444  [Early Access, Adventure, Indie, Action, Simul...   \n",
       "\n",
       "                                              reviews_url  \\\n",
       "120440  http://steamcommunity.com/app/773640/reviews/?...   \n",
       "120441  http://steamcommunity.com/app/733530/reviews/?...   \n",
       "120442  http://steamcommunity.com/app/610660/reviews/?...   \n",
       "120443  http://steamcommunity.com/app/658870/reviews/?...   \n",
       "120444  http://steamcommunity.com/app/681550/reviews/?...   \n",
       "\n",
       "                                                    specs price early_access  \\\n",
       "120440                [Single-player, Steam Achievements]  1.99        False   \n",
       "120441  [Single-player, Steam Achievements, Steam Clou...  4.99        False   \n",
       "120442  [Single-player, Steam Achievements, Steam Trad...  1.99        False   \n",
       "120443   [Single-player, Steam Achievements, Steam Cloud]  4.99        False   \n",
       "120444  [Single-player, Stats, Steam Leaderboards, HTC...  4.99         True   \n",
       "\n",
       "            id                 developer  \n",
       "120440  773640        Nikita \"Ghost_RUS\"  \n",
       "120441  733530                    Sacada  \n",
       "120442  610660  Laush Dmitriy Sergeevich  \n",
       "120443  658870             xropi,stev3ns  \n",
       "120444  681550                       NaN  "
      ]
     },
     "execution_count": 28,
     "metadata": {},
     "output_type": "execute_result"
    }
   ],
   "source": [
    "games.tail()"
   ]
  },
  {
   "cell_type": "code",
   "execution_count": 29,
   "metadata": {},
   "outputs": [
    {
     "data": {
      "text/html": [
       "<div>\n",
       "<style scoped>\n",
       "    .dataframe tbody tr th:only-of-type {\n",
       "        vertical-align: middle;\n",
       "    }\n",
       "\n",
       "    .dataframe tbody tr th {\n",
       "        vertical-align: top;\n",
       "    }\n",
       "\n",
       "    .dataframe thead th {\n",
       "        text-align: right;\n",
       "    }\n",
       "</style>\n",
       "<table border=\"1\" class=\"dataframe\">\n",
       "  <thead>\n",
       "    <tr style=\"text-align: right;\">\n",
       "      <th></th>\n",
       "      <th>user_id</th>\n",
       "      <th>funny</th>\n",
       "      <th>posted</th>\n",
       "      <th>last_edited</th>\n",
       "      <th>item_id</th>\n",
       "      <th>helpful</th>\n",
       "      <th>recommend</th>\n",
       "      <th>review</th>\n",
       "    </tr>\n",
       "  </thead>\n",
       "  <tbody>\n",
       "    <tr>\n",
       "      <th>0</th>\n",
       "      <td>76561197970982479</td>\n",
       "      <td></td>\n",
       "      <td>Posted November 5, 2011.</td>\n",
       "      <td></td>\n",
       "      <td>1250</td>\n",
       "      <td>No ratings yet</td>\n",
       "      <td>True</td>\n",
       "      <td>Simple yet with great replayability. In my opi...</td>\n",
       "    </tr>\n",
       "    <tr>\n",
       "      <th>1</th>\n",
       "      <td>76561197970982479</td>\n",
       "      <td></td>\n",
       "      <td>Posted July 15, 2011.</td>\n",
       "      <td></td>\n",
       "      <td>22200</td>\n",
       "      <td>No ratings yet</td>\n",
       "      <td>True</td>\n",
       "      <td>It's unique and worth a playthrough.</td>\n",
       "    </tr>\n",
       "    <tr>\n",
       "      <th>2</th>\n",
       "      <td>76561197970982479</td>\n",
       "      <td></td>\n",
       "      <td>Posted April 21, 2011.</td>\n",
       "      <td></td>\n",
       "      <td>43110</td>\n",
       "      <td>No ratings yet</td>\n",
       "      <td>True</td>\n",
       "      <td>Great atmosphere. The gunplay can be a bit chu...</td>\n",
       "    </tr>\n",
       "    <tr>\n",
       "      <th>3</th>\n",
       "      <td>js41637</td>\n",
       "      <td></td>\n",
       "      <td>Posted June 24, 2014.</td>\n",
       "      <td></td>\n",
       "      <td>251610</td>\n",
       "      <td>15 of 20 people (75%) found this review helpful</td>\n",
       "      <td>True</td>\n",
       "      <td>I know what you think when you see this title ...</td>\n",
       "    </tr>\n",
       "    <tr>\n",
       "      <th>4</th>\n",
       "      <td>js41637</td>\n",
       "      <td></td>\n",
       "      <td>Posted September 8, 2013.</td>\n",
       "      <td></td>\n",
       "      <td>227300</td>\n",
       "      <td>0 of 1 people (0%) found this review helpful</td>\n",
       "      <td>True</td>\n",
       "      <td>For a simple (it's actually not all that simpl...</td>\n",
       "    </tr>\n",
       "  </tbody>\n",
       "</table>\n",
       "</div>"
      ],
      "text/plain": [
       "             user_id funny                     posted last_edited item_id  \\\n",
       "0  76561197970982479         Posted November 5, 2011.                1250   \n",
       "1  76561197970982479            Posted July 15, 2011.               22200   \n",
       "2  76561197970982479           Posted April 21, 2011.               43110   \n",
       "3            js41637            Posted June 24, 2014.              251610   \n",
       "4            js41637        Posted September 8, 2013.              227300   \n",
       "\n",
       "                                           helpful recommend  \\\n",
       "0                                   No ratings yet      True   \n",
       "1                                   No ratings yet      True   \n",
       "2                                   No ratings yet      True   \n",
       "3  15 of 20 people (75%) found this review helpful      True   \n",
       "4     0 of 1 people (0%) found this review helpful      True   \n",
       "\n",
       "                                              review  \n",
       "0  Simple yet with great replayability. In my opi...  \n",
       "1               It's unique and worth a playthrough.  \n",
       "2  Great atmosphere. The gunplay can be a bit chu...  \n",
       "3  I know what you think when you see this title ...  \n",
       "4  For a simple (it's actually not all that simpl...  "
      ]
     },
     "execution_count": 29,
     "metadata": {},
     "output_type": "execute_result"
    }
   ],
   "source": [
    "reviews.head()"
   ]
  },
  {
   "cell_type": "code",
   "execution_count": 30,
   "metadata": {},
   "outputs": [
    {
     "data": {
      "text/html": [
       "<div>\n",
       "<style scoped>\n",
       "    .dataframe tbody tr th:only-of-type {\n",
       "        vertical-align: middle;\n",
       "    }\n",
       "\n",
       "    .dataframe tbody tr th {\n",
       "        vertical-align: top;\n",
       "    }\n",
       "\n",
       "    .dataframe thead th {\n",
       "        text-align: right;\n",
       "    }\n",
       "</style>\n",
       "<table border=\"1\" class=\"dataframe\">\n",
       "  <thead>\n",
       "    <tr style=\"text-align: right;\">\n",
       "      <th></th>\n",
       "      <th>user_id</th>\n",
       "      <th>item_id</th>\n",
       "      <th>item_name</th>\n",
       "      <th>playtime_forever</th>\n",
       "      <th>playtime_2weeks</th>\n",
       "    </tr>\n",
       "  </thead>\n",
       "  <tbody>\n",
       "    <tr>\n",
       "      <th>0</th>\n",
       "      <td>76561197970982479</td>\n",
       "      <td>10</td>\n",
       "      <td>Counter-Strike</td>\n",
       "      <td>6.0</td>\n",
       "      <td>0.0</td>\n",
       "    </tr>\n",
       "    <tr>\n",
       "      <th>1</th>\n",
       "      <td>76561197970982479</td>\n",
       "      <td>20</td>\n",
       "      <td>Team Fortress Classic</td>\n",
       "      <td>0.0</td>\n",
       "      <td>0.0</td>\n",
       "    </tr>\n",
       "    <tr>\n",
       "      <th>2</th>\n",
       "      <td>76561197970982479</td>\n",
       "      <td>30</td>\n",
       "      <td>Day of Defeat</td>\n",
       "      <td>7.0</td>\n",
       "      <td>0.0</td>\n",
       "    </tr>\n",
       "    <tr>\n",
       "      <th>3</th>\n",
       "      <td>76561197970982479</td>\n",
       "      <td>40</td>\n",
       "      <td>Deathmatch Classic</td>\n",
       "      <td>0.0</td>\n",
       "      <td>0.0</td>\n",
       "    </tr>\n",
       "    <tr>\n",
       "      <th>4</th>\n",
       "      <td>76561197970982479</td>\n",
       "      <td>50</td>\n",
       "      <td>Half-Life: Opposing Force</td>\n",
       "      <td>0.0</td>\n",
       "      <td>0.0</td>\n",
       "    </tr>\n",
       "  </tbody>\n",
       "</table>\n",
       "</div>"
      ],
      "text/plain": [
       "             user_id item_id                  item_name  playtime_forever  \\\n",
       "0  76561197970982479      10             Counter-Strike               6.0   \n",
       "1  76561197970982479      20      Team Fortress Classic               0.0   \n",
       "2  76561197970982479      30              Day of Defeat               7.0   \n",
       "3  76561197970982479      40         Deathmatch Classic               0.0   \n",
       "4  76561197970982479      50  Half-Life: Opposing Force               0.0   \n",
       "\n",
       "   playtime_2weeks  \n",
       "0              0.0  \n",
       "1              0.0  \n",
       "2              0.0  \n",
       "3              0.0  \n",
       "4              0.0  "
      ]
     },
     "execution_count": 30,
     "metadata": {},
     "output_type": "execute_result"
    }
   ],
   "source": [
    "items.head()"
   ]
  },
  {
   "cell_type": "markdown",
   "metadata": {},
   "source": [
    "#### 3.2 UsersForGenre: Debe devolver el usuario que acumula más horas jugadas para el género dado y una lista de la acumulación de horas jugadas por año.\n",
    "Ejemplo de retorno: {\"Usuario con más horas jugadas para Género X\" : us213ndjss09sdf, \"Horas jugadas\":[{Año: 2013, Horas: 203}, {Año: 2012, Horas: 100}, {Año: 2011, Horas: 23}]}"
   ]
  },
  {
   "cell_type": "code",
   "execution_count": 35,
   "metadata": {},
   "outputs": [
    {
     "data": {
      "text/html": [
       "<div>\n",
       "<style scoped>\n",
       "    .dataframe tbody tr th:only-of-type {\n",
       "        vertical-align: middle;\n",
       "    }\n",
       "\n",
       "    .dataframe tbody tr th {\n",
       "        vertical-align: top;\n",
       "    }\n",
       "\n",
       "    .dataframe thead th {\n",
       "        text-align: right;\n",
       "    }\n",
       "</style>\n",
       "<table border=\"1\" class=\"dataframe\">\n",
       "  <thead>\n",
       "    <tr style=\"text-align: right;\">\n",
       "      <th></th>\n",
       "      <th>user_id</th>\n",
       "      <th>item_id</th>\n",
       "      <th>playtime_forever</th>\n",
       "    </tr>\n",
       "  </thead>\n",
       "  <tbody>\n",
       "    <tr>\n",
       "      <th>0</th>\n",
       "      <td>76561197970982479</td>\n",
       "      <td>10</td>\n",
       "      <td>6.0</td>\n",
       "    </tr>\n",
       "    <tr>\n",
       "      <th>1</th>\n",
       "      <td>76561197970982479</td>\n",
       "      <td>20</td>\n",
       "      <td>0.0</td>\n",
       "    </tr>\n",
       "    <tr>\n",
       "      <th>2</th>\n",
       "      <td>76561197970982479</td>\n",
       "      <td>30</td>\n",
       "      <td>7.0</td>\n",
       "    </tr>\n",
       "    <tr>\n",
       "      <th>3</th>\n",
       "      <td>76561197970982479</td>\n",
       "      <td>40</td>\n",
       "      <td>0.0</td>\n",
       "    </tr>\n",
       "    <tr>\n",
       "      <th>4</th>\n",
       "      <td>76561197970982479</td>\n",
       "      <td>50</td>\n",
       "      <td>0.0</td>\n",
       "    </tr>\n",
       "  </tbody>\n",
       "</table>\n",
       "</div>"
      ],
      "text/plain": [
       "             user_id item_id  playtime_forever\n",
       "0  76561197970982479      10               6.0\n",
       "1  76561197970982479      20               0.0\n",
       "2  76561197970982479      30               7.0\n",
       "3  76561197970982479      40               0.0\n",
       "4  76561197970982479      50               0.0"
      ]
     },
     "execution_count": 35,
     "metadata": {},
     "output_type": "execute_result"
    }
   ],
   "source": [
    "items[['user_id','item_id','playtime_forever']].head()"
   ]
  }
 ],
 "metadata": {
  "kernelspec": {
   "display_name": "sist_rec_juegos-env",
   "language": "python",
   "name": "python3"
  },
  "language_info": {
   "codemirror_mode": {
    "name": "ipython",
    "version": 3
   },
   "file_extension": ".py",
   "mimetype": "text/x-python",
   "name": "python",
   "nbconvert_exporter": "python",
   "pygments_lexer": "ipython3",
   "version": "3.11.1"
  }
 },
 "nbformat": 4,
 "nbformat_minor": 2
}
