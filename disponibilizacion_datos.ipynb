{
 "cells": [
  {
   "cell_type": "code",
   "execution_count": 51,
   "metadata": {},
   "outputs": [],
   "source": [
    "# Librerias necesarias\n",
    "import pandas as pd\n",
    "import numpy as np\n",
    "import json\n",
    "import ast\n",
    "import gzip"
   ]
  },
  {
   "cell_type": "code",
   "execution_count": 52,
   "metadata": {},
   "outputs": [],
   "source": [
    "# Ruta de los datos:\n",
    "ruta_games= 'Datasets originales/steam_games.json.gz'\n",
    "ruta_user_reviews= 'Datasets originales/user_reviews.json.gz'\n",
    "ruta_user_items= 'Datasets originales/users_items.json.gz'"
   ]
  },
  {
   "cell_type": "markdown",
   "metadata": {},
   "source": [
    "#### Games"
   ]
  },
  {
   "cell_type": "code",
   "execution_count": 53,
   "metadata": {},
   "outputs": [],
   "source": [
    "## Games:\n",
    "games_orig = []\n",
    "with gzip.open(ruta_games, 'rt', encoding='utf-8') as archivo_comprimido:\n",
    "    for linea in archivo_comprimido:\n",
    "        diccionario = json.loads(linea)\n",
    "        games_orig.append(diccionario)\n",
    "\n",
    "# Transformamos a DataFrame:\n",
    "games_orig = pd.DataFrame(games_orig)"
   ]
  },
  {
   "cell_type": "code",
   "execution_count": 98,
   "metadata": {},
   "outputs": [],
   "source": [
    "# Copia de los datos para no estar constantemente cargandolos para resetearlos\n",
    "games = games_orig.copy()"
   ]
  },
  {
   "cell_type": "code",
   "execution_count": null,
   "metadata": {},
   "outputs": [],
   "source": [
    "games.tail()"
   ]
  },
  {
   "cell_type": "markdown",
   "metadata": {},
   "source": [
    "Las transformaciones que realizaremos en este caso serán: \n",
    "\n",
    "1. Eliminar registros completamente vacíos. \n",
    "2. Eliminar columnas que no utilizaremos: ``publisher``, ``url``, ``reviews_url``, ``price``, ``early_access``, ``developer``. Eliminar la columna ``tags`` previo a rellenar los datos faltantes de genres con sus valores. ``app_name`` y ``title`` dicen lo mismo, dejaremos la columna que tenga menor cantidad de datos faltantes.\n",
    "3. Desanidar registros que poseen valores con tipo de dato LISTA.\n",
    "4. Eliminar registros duplicados.\n",
    "5. Corregir el tipo de dato de cada columna. Los registros que poseen el campo ``release_date`` vacío o con un dato que no corresponde, se rellenaran con '1900-01-01' para poder mantener el registro sin perjudicar el análisis. También creamos ``release_year``.\n",
    "6. Eliminar registros que poseen datos vacíos en columnas relevantes."
   ]
  },
  {
   "cell_type": "code",
   "execution_count": 99,
   "metadata": {},
   "outputs": [
    {
     "name": "stdout",
     "output_type": "stream",
     "text": [
      "tamaño inicial del dataframe: 120445 registros\n",
      "tamaño final del dataframe: 32135 registros \n"
     ]
    }
   ],
   "source": [
    "# 1. Eliminar registros completamente vacíos\n",
    "print(f'tamaño inicial del dataframe: {len(games)} registros')\n",
    "games.dropna(how='all', inplace= True, ignore_index=True)\n",
    "print(f'tamaño final del dataframe: {len(games)} registros ')"
   ]
  },
  {
   "cell_type": "code",
   "execution_count": 100,
   "metadata": {},
   "outputs": [
    {
     "name": "stdout",
     "output_type": "stream",
     "text": [
      "El tamaño inicial de games era (32135, 13)\n",
      "Columnas sin utilidad eliminadas\n",
      "Ahora, el tamaño final es: (32135, 5)\n"
     ]
    }
   ],
   "source": [
    "# 2. Eliminar columnas que no utilizaremos: ``publisher``, ``url``, ``reviews_url``, ``price``, ``early_access``, ``developer``.\n",
    "# Eliminar la columna ``tags`` previo a rellenar los datos faltantes de ``genres`` con sus valores. \n",
    "# ``app_name`` y ``title`` dicen lo mismo, dejaremos \"app_name\" que tiene menos datos faltantes y le cambiaremos el nombre a \"title\"\n",
    "\n",
    "print(f\"El tamaño inicial de games era {games.shape}\")\n",
    "\n",
    "games['genres'] = games['genres'].combine_first(games['tags']) # a cada valor faltante de genres le hara corresponder lo que figure en tags\n",
    "games['title']= games['app_name']\n",
    "games.drop(columns=['publisher', 'url', 'reviews_url', 'price', 'early_access', 'developer', 'tags', 'app_name'], inplace=True)\n",
    "\n",
    "print(\"Columnas sin utilidad eliminadas\")\n",
    "print(f\"Ahora, el tamaño final es: {games.shape}\")\n"
   ]
  },
  {
   "cell_type": "code",
   "execution_count": 101,
   "metadata": {},
   "outputs": [
    {
     "data": {
      "text/html": [
       "<div>\n",
       "<style scoped>\n",
       "    .dataframe tbody tr th:only-of-type {\n",
       "        vertical-align: middle;\n",
       "    }\n",
       "\n",
       "    .dataframe tbody tr th {\n",
       "        vertical-align: top;\n",
       "    }\n",
       "\n",
       "    .dataframe thead th {\n",
       "        text-align: right;\n",
       "    }\n",
       "</style>\n",
       "<table border=\"1\" class=\"dataframe\">\n",
       "  <thead>\n",
       "    <tr style=\"text-align: right;\">\n",
       "      <th></th>\n",
       "      <th>genres</th>\n",
       "      <th>title</th>\n",
       "      <th>release_date</th>\n",
       "      <th>specs</th>\n",
       "      <th>id</th>\n",
       "    </tr>\n",
       "  </thead>\n",
       "  <tbody>\n",
       "    <tr>\n",
       "      <th>17589</th>\n",
       "      <td>[Casual, Simulation]</td>\n",
       "      <td>Rocksmith® 2014 Edition – Remastered – Queen -...</td>\n",
       "      <td>2017-05-23</td>\n",
       "      <td>[Single-player, Shared/Split Screen, Downloada...</td>\n",
       "      <td>590224</td>\n",
       "    </tr>\n",
       "  </tbody>\n",
       "</table>\n",
       "</div>"
      ],
      "text/plain": [
       "                     genres  \\\n",
       "17589  [Casual, Simulation]   \n",
       "\n",
       "                                                   title release_date  \\\n",
       "17589  Rocksmith® 2014 Edition – Remastered – Queen -...   2017-05-23   \n",
       "\n",
       "                                                   specs      id  \n",
       "17589  [Single-player, Shared/Split Screen, Downloada...  590224  "
      ]
     },
     "execution_count": 101,
     "metadata": {},
     "output_type": "execute_result"
    }
   ],
   "source": [
    "games.sample()"
   ]
  },
  {
   "cell_type": "code",
   "execution_count": 102,
   "metadata": {},
   "outputs": [
    {
     "data": {
      "text/plain": [
       "(408844, 5)"
      ]
     },
     "execution_count": 102,
     "metadata": {},
     "output_type": "execute_result"
    }
   ],
   "source": [
    "# 3. Desanidar registros que poseen valores con tipo de dato LISTA: genres y specs.\n",
    "games = games.explode(column=['genres'], ignore_index=True)\n",
    "games = games.explode(column=['specs'], ignore_index=True)\n",
    "games.shape"
   ]
  },
  {
   "cell_type": "code",
   "execution_count": 103,
   "metadata": {},
   "outputs": [
    {
     "data": {
      "text/plain": [
       "(408840, 5)"
      ]
     },
     "execution_count": 103,
     "metadata": {},
     "output_type": "execute_result"
    }
   ],
   "source": [
    "# 4. Eliminar registros duplicados.\n",
    "games.drop_duplicates(inplace=True)\n",
    "games.shape"
   ]
  },
  {
   "cell_type": "code",
   "execution_count": 104,
   "metadata": {},
   "outputs": [
    {
     "name": "stdout",
     "output_type": "stream",
     "text": [
      "<class 'pandas.core.frame.DataFrame'>\n",
      "Index: 408829 entries, 0 to 408843\n",
      "Data columns (total 5 columns):\n",
      " #   Column        Non-Null Count   Dtype \n",
      "---  ------        --------------   ----- \n",
      " 0   genres        408631 non-null  object\n",
      " 1   title         408825 non-null  object\n",
      " 2   release_year  408829 non-null  int32 \n",
      " 3   specs         407184 non-null  object\n",
      " 4   id            408829 non-null  int32 \n",
      "dtypes: int32(2), object(3)\n",
      "memory usage: 15.6+ MB\n"
     ]
    }
   ],
   "source": [
    "# 5. Corregir el tipo de dato de cada columna.\n",
    "## genres OK\n",
    "## specs OK\n",
    "## title OK\n",
    "## release_date INCONSISTENTE\n",
    "## id VALORES NAN\n",
    "fecha_relleno = pd.to_datetime('1900-01-01')\n",
    "games['release_date'] = pd.to_datetime(games['release_date'], format='%Y-%m-%d', errors='coerce').fillna(fecha_relleno).dt.year\n",
    "games.rename(columns={'release_date':'release_year'}, inplace=True)\n",
    "# Si no tiene ID no sirve, se dropea.\n",
    "games.dropna(subset='id', inplace=True)\n",
    "games['id']=games['id'].astype(int)\n",
    "games.info()"
   ]
  },
  {
   "cell_type": "code",
   "execution_count": 107,
   "metadata": {},
   "outputs": [
    {
     "data": {
      "text/html": [
       "<div>\n",
       "<style scoped>\n",
       "    .dataframe tbody tr th:only-of-type {\n",
       "        vertical-align: middle;\n",
       "    }\n",
       "\n",
       "    .dataframe tbody tr th {\n",
       "        vertical-align: top;\n",
       "    }\n",
       "\n",
       "    .dataframe thead th {\n",
       "        text-align: right;\n",
       "    }\n",
       "</style>\n",
       "<table border=\"1\" class=\"dataframe\">\n",
       "  <thead>\n",
       "    <tr style=\"text-align: right;\">\n",
       "      <th></th>\n",
       "      <th>genres</th>\n",
       "      <th>title</th>\n",
       "      <th>release_year</th>\n",
       "      <th>specs</th>\n",
       "      <th>id</th>\n",
       "    </tr>\n",
       "  </thead>\n",
       "  <tbody>\n",
       "    <tr>\n",
       "      <th>1911</th>\n",
       "      <td>NaN</td>\n",
       "      <td>Europa Universalis III: Heir to the Throne</td>\n",
       "      <td>2009</td>\n",
       "      <td>Single-player</td>\n",
       "      <td>25806</td>\n",
       "    </tr>\n",
       "    <tr>\n",
       "      <th>1912</th>\n",
       "      <td>NaN</td>\n",
       "      <td>Europa Universalis III: Heir to the Throne</td>\n",
       "      <td>2009</td>\n",
       "      <td>Multi-player</td>\n",
       "      <td>25806</td>\n",
       "    </tr>\n",
       "    <tr>\n",
       "      <th>1913</th>\n",
       "      <td>NaN</td>\n",
       "      <td>Europa Universalis III: Heir to the Throne</td>\n",
       "      <td>2009</td>\n",
       "      <td>Downloadable Content</td>\n",
       "      <td>25806</td>\n",
       "    </tr>\n",
       "    <tr>\n",
       "      <th>2424</th>\n",
       "      <td>NaN</td>\n",
       "      <td>Booster Trooper Demo</td>\n",
       "      <td>2010</td>\n",
       "      <td>Game demo</td>\n",
       "      <td>27930</td>\n",
       "    </tr>\n",
       "    <tr>\n",
       "      <th>3270</th>\n",
       "      <td>NaN</td>\n",
       "      <td>Warhammer 40,000: Dawn of War II - Retribution...</td>\n",
       "      <td>2011</td>\n",
       "      <td>Downloadable Content</td>\n",
       "      <td>56436</td>\n",
       "    </tr>\n",
       "    <tr>\n",
       "      <th>...</th>\n",
       "      <td>...</td>\n",
       "      <td>...</td>\n",
       "      <td>...</td>\n",
       "      <td>...</td>\n",
       "      <td>...</td>\n",
       "    </tr>\n",
       "    <tr>\n",
       "      <th>403439</th>\n",
       "      <td>NaN</td>\n",
       "      <td>Total War: SHOGUN 2 - Sengoku Jidai Unit Pack</td>\n",
       "      <td>2011</td>\n",
       "      <td>Downloadable Content</td>\n",
       "      <td>34342</td>\n",
       "    </tr>\n",
       "    <tr>\n",
       "      <th>403931</th>\n",
       "      <td>NaN</td>\n",
       "      <td>Worms Reloaded: The \"Pre-order Forts and Hats\"...</td>\n",
       "      <td>2011</td>\n",
       "      <td>Downloadable Content</td>\n",
       "      <td>22630</td>\n",
       "    </tr>\n",
       "    <tr>\n",
       "      <th>403970</th>\n",
       "      <td>NaN</td>\n",
       "      <td>Total War: SHOGUN 2 - The Ikko Ikki Clan Pack</td>\n",
       "      <td>2011</td>\n",
       "      <td>Downloadable Content</td>\n",
       "      <td>34348</td>\n",
       "    </tr>\n",
       "    <tr>\n",
       "      <th>404322</th>\n",
       "      <td>NaN</td>\n",
       "      <td>Killing Floor \"London's Finest\" Character Pack</td>\n",
       "      <td>2010</td>\n",
       "      <td>Downloadable Content</td>\n",
       "      <td>35419</td>\n",
       "    </tr>\n",
       "    <tr>\n",
       "      <th>405847</th>\n",
       "      <td>NaN</td>\n",
       "      <td>Super Granny Collection</td>\n",
       "      <td>2009</td>\n",
       "      <td>Single-player</td>\n",
       "      <td>36270</td>\n",
       "    </tr>\n",
       "  </tbody>\n",
       "</table>\n",
       "<p>198 rows × 5 columns</p>\n",
       "</div>"
      ],
      "text/plain": [
       "       genres                                              title  \\\n",
       "1911      NaN         Europa Universalis III: Heir to the Throne   \n",
       "1912      NaN         Europa Universalis III: Heir to the Throne   \n",
       "1913      NaN         Europa Universalis III: Heir to the Throne   \n",
       "2424      NaN                               Booster Trooper Demo   \n",
       "3270      NaN  Warhammer 40,000: Dawn of War II - Retribution...   \n",
       "...       ...                                                ...   \n",
       "403439    NaN      Total War: SHOGUN 2 - Sengoku Jidai Unit Pack   \n",
       "403931    NaN  Worms Reloaded: The \"Pre-order Forts and Hats\"...   \n",
       "403970    NaN      Total War: SHOGUN 2 - The Ikko Ikki Clan Pack   \n",
       "404322    NaN     Killing Floor \"London's Finest\" Character Pack   \n",
       "405847    NaN                            Super Granny Collection   \n",
       "\n",
       "        release_year                 specs     id  \n",
       "1911            2009         Single-player  25806  \n",
       "1912            2009          Multi-player  25806  \n",
       "1913            2009  Downloadable Content  25806  \n",
       "2424            2010             Game demo  27930  \n",
       "3270            2011  Downloadable Content  56436  \n",
       "...              ...                   ...    ...  \n",
       "403439          2011  Downloadable Content  34342  \n",
       "403931          2011  Downloadable Content  22630  \n",
       "403970          2011  Downloadable Content  34348  \n",
       "404322          2010  Downloadable Content  35419  \n",
       "405847          2009         Single-player  36270  \n",
       "\n",
       "[198 rows x 5 columns]"
      ]
     },
     "execution_count": 107,
     "metadata": {},
     "output_type": "execute_result"
    }
   ],
   "source": [
    "# 6. Eliminar registros que poseen datos vacíos en columnas relevantes\n",
    "games[games['genres'].isna()]\n",
    "\n",
    "### ¿QUE HAGO CON GENRES?"
   ]
  },
  {
   "cell_type": "code",
   "execution_count": null,
   "metadata": {},
   "outputs": [],
   "source": []
  },
  {
   "cell_type": "markdown",
   "metadata": {},
   "source": [
    "## Para poder MERGEAR las tablas, los campos de las PK y FK deben ser el mismo tipo de dato. No puedo mergear un ``item_id`` string con un ``item_id`` integer"
   ]
  },
  {
   "cell_type": "markdown",
   "metadata": {},
   "source": [
    "#### Reviews"
   ]
  },
  {
   "cell_type": "code",
   "execution_count": 68,
   "metadata": {},
   "outputs": [],
   "source": [
    "## Reviews:\n",
    "user_reviews = []\n",
    "with gzip.open(ruta_user_reviews, 'rt', encoding=\"utf-8\") as archivo_comprimido:\n",
    "    for linea in archivo_comprimido:\n",
    "        user_reviews.append(ast.literal_eval(linea))\n",
    "    \n",
    "# Transformamos a DataFrame:\n",
    "user_reviews_orig = pd.DataFrame(user_reviews)\n"
   ]
  },
  {
   "cell_type": "code",
   "execution_count": 69,
   "metadata": {},
   "outputs": [],
   "source": [
    "# Copia de los datos para no estar constantemente cargandolos para resetearlos\n",
    "user_reviews = user_reviews_orig.copy()"
   ]
  },
  {
   "cell_type": "code",
   "execution_count": 70,
   "metadata": {},
   "outputs": [
    {
     "data": {
      "text/html": [
       "<div>\n",
       "<style scoped>\n",
       "    .dataframe tbody tr th:only-of-type {\n",
       "        vertical-align: middle;\n",
       "    }\n",
       "\n",
       "    .dataframe tbody tr th {\n",
       "        vertical-align: top;\n",
       "    }\n",
       "\n",
       "    .dataframe thead th {\n",
       "        text-align: right;\n",
       "    }\n",
       "</style>\n",
       "<table border=\"1\" class=\"dataframe\">\n",
       "  <thead>\n",
       "    <tr style=\"text-align: right;\">\n",
       "      <th></th>\n",
       "      <th>user_id</th>\n",
       "      <th>reviews</th>\n",
       "    </tr>\n",
       "  </thead>\n",
       "  <tbody>\n",
       "    <tr>\n",
       "      <th>0</th>\n",
       "      <td>76561197970982479</td>\n",
       "      <td>[{'funny': '', 'posted': 'Posted November 5, 2...</td>\n",
       "    </tr>\n",
       "    <tr>\n",
       "      <th>1</th>\n",
       "      <td>js41637</td>\n",
       "      <td>[{'funny': '', 'posted': 'Posted June 24, 2014...</td>\n",
       "    </tr>\n",
       "    <tr>\n",
       "      <th>2</th>\n",
       "      <td>evcentric</td>\n",
       "      <td>[{'funny': '', 'posted': 'Posted February 3.',...</td>\n",
       "    </tr>\n",
       "    <tr>\n",
       "      <th>3</th>\n",
       "      <td>doctr</td>\n",
       "      <td>[{'funny': '', 'posted': 'Posted October 14, 2...</td>\n",
       "    </tr>\n",
       "    <tr>\n",
       "      <th>4</th>\n",
       "      <td>maplemage</td>\n",
       "      <td>[{'funny': '3 people found this review funny',...</td>\n",
       "    </tr>\n",
       "  </tbody>\n",
       "</table>\n",
       "</div>"
      ],
      "text/plain": [
       "             user_id                                            reviews\n",
       "0  76561197970982479  [{'funny': '', 'posted': 'Posted November 5, 2...\n",
       "1            js41637  [{'funny': '', 'posted': 'Posted June 24, 2014...\n",
       "2          evcentric  [{'funny': '', 'posted': 'Posted February 3.',...\n",
       "3              doctr  [{'funny': '', 'posted': 'Posted October 14, 2...\n",
       "4          maplemage  [{'funny': '3 people found this review funny',..."
      ]
     },
     "execution_count": 70,
     "metadata": {},
     "output_type": "execute_result"
    }
   ],
   "source": [
    "# Extraigo solo las columnas que voy a usar\n",
    "\n",
    "reviews = user_reviews[['user_id','reviews']]\n",
    "reviews.head()"
   ]
  },
  {
   "cell_type": "code",
   "execution_count": 71,
   "metadata": {},
   "outputs": [],
   "source": [
    "# Desanidamos reviews:\n",
    "\n",
    "reviews_explode = reviews.explode('reviews', ignore_index=True) # separo en filas todos todos los json que estan listados en cada registro\n",
    "reviews_desanidado = pd.json_normalize(reviews_explode['reviews']) # transformo a tabla cada uno de los json que tenemos en cada registro\n",
    "reviews = pd.concat([reviews_explode,reviews_desanidado], axis=1).drop(columns=['reviews']) # concateno ambos dataframes y dropeo la columna reviews que está anidada"
   ]
  },
  {
   "cell_type": "markdown",
   "metadata": {},
   "source": [
    "#### Items"
   ]
  },
  {
   "cell_type": "code",
   "execution_count": null,
   "metadata": {},
   "outputs": [],
   "source": [
    "## Items:\n",
    "user_items = []\n",
    "with gzip.open(ruta_user_items, 'rt', encoding=\"utf-8\") as archivo_comprimido:\n",
    "    for linea in archivo_comprimido:\n",
    "        user_items.append(ast.literal_eval(linea))\n",
    "    \n",
    "# Transformamos a DataFrame:\n",
    "user_items_orig = pd.DataFrame(user_items)"
   ]
  },
  {
   "cell_type": "code",
   "execution_count": null,
   "metadata": {},
   "outputs": [],
   "source": [
    "# Copia de los datos para no estar constantemente cargandolos para resetearlos\n",
    "user_items = user_items_orig.copy()"
   ]
  },
  {
   "cell_type": "code",
   "execution_count": null,
   "metadata": {},
   "outputs": [],
   "source": [
    "# Extraigo solo las columnas que voy a usar:\n",
    "items = user_items[['user_id','items']]\n",
    "items.head()"
   ]
  },
  {
   "cell_type": "code",
   "execution_count": null,
   "metadata": {},
   "outputs": [],
   "source": [
    "# Desanidamos items:\n",
    "\n",
    "items_explode = items.explode('items', ignore_index=True) # separo en filas todos todos los json que estan listados en cada registro\n",
    "items_desanidado = pd.json_normalize(items_explode['items']) # transformo a tabla cada uno de los json que tenemos en cada registro\n",
    "items = pd.concat([items_explode,items_desanidado], axis=1).drop(columns=['items']) # concateno ambos dataframes y dropeo la columna items que está anidada"
   ]
  },
  {
   "cell_type": "markdown",
   "metadata": {},
   "source": [
    "Ahora tenemos 3 tablas con las que trabajaremos: `games`, `reviews` e `items`"
   ]
  },
  {
   "cell_type": "markdown",
   "metadata": {},
   "source": [
    "#### Transformaciones generales"
   ]
  },
  {
   "cell_type": "code",
   "execution_count": null,
   "metadata": {},
   "outputs": [],
   "source": [
    "games['title'].info()\n",
    "games['app_name'].info()\n",
    "# Son columnas similares. En este caso la columna que voy a dejar es app_name porque posee menor cantidad de datos vacios: 2."
   ]
  },
  {
   "cell_type": "code",
   "execution_count": null,
   "metadata": {},
   "outputs": [],
   "source": [
    "# Prueba para rellenar valores faltantes de genres\n",
    "prueba = games[['genres','tags']].loc[88313:88320]\n",
    "prueba['genres'] = prueba['genres'].combine_first(prueba['tags'])\n",
    "prueba"
   ]
  },
  {
   "cell_type": "code",
   "execution_count": null,
   "metadata": {},
   "outputs": [],
   "source": [
    "games['genres'] = games['genres'].combine_first(games['tags']) # a cada valor faltante de genres le hara corresponder lo que figure en tags\n",
    "games.drop(columns=['publisher'])"
   ]
  },
  {
   "cell_type": "code",
   "execution_count": null,
   "metadata": {},
   "outputs": [],
   "source": [
    "# Tratamiento de registros vacíos\n",
    "print(f\"El tamaño inicial del dataset games es: \\n{games.shape}\")\n",
    "print(f\"El tamaño inicial del dataset reviews es: \\n{reviews.shape}\")\n",
    "print(f\"El tamaño inicial del dataset items es: \\n{items.shape}\")\n",
    "\n",
    "games.dropna(how='all', inplace=True)\n",
    "reviews.dropna(how='all', inplace=True)\n",
    "items.dropna(how='all', inplace=True)\n",
    "\n",
    "print(f\"Removiendo los registros completamente vacíos nos quedaran con un tamaño de \\n games: {games.shape}\")\n",
    "print(f\"Removiendo los registros completamente vacíos nos quedaran con un tamaño de \\n reviews: {reviews.shape}\")\n",
    "print(f\"Removiendo los registros completamente vacíos nos quedaran con un tamaño de \\n items: {items.shape}\")"
   ]
  },
  {
   "cell_type": "code",
   "execution_count": null,
   "metadata": {},
   "outputs": [],
   "source": [
    "# Tratamiento de registros duplicados\n",
    "print(f\"El tamaño del dataset games previo a realizar limpieza de registros duplicados es: {games.shape}\")\n",
    "print(f\"El tamaño del dataset reviews previo a realizar limpieza de registros duplicados es: {reviews.shape}\")\n",
    "print(f\"El tamaño del dataset items previo a realizar limpieza de registros duplicados es: {items.shape}\")\n",
    "\n",
    "games.drop_duplicates(subset=['publisher', 'app_name', 'title', 'url', 'release_date', 'reviews_url', 'price', 'early_access', 'id','developer'])\n",
    "reviews.drop_duplicates()\n",
    "items.drop_duplicates()\n",
    "\n",
    "print(f\"El tamaño del dataset games luego de realizar limpieza de registros duplicados es: {games.shape}\")\n",
    "print(f\"El tamaño del dataset reviews luego de realizar limpieza de registros duplicados es: {reviews.shape}\")\n",
    "print(f\"El tamaño del dataset items luego de realizar limpieza de registros duplicados es: {items.shape}\")"
   ]
  },
  {
   "cell_type": "markdown",
   "metadata": {},
   "source": [
    "#### Las tablas que finalmente utilizaremos son: ***games***, ***reviews*** e ***items***"
   ]
  },
  {
   "cell_type": "markdown",
   "metadata": {},
   "source": [
    "#### 3. Carga o disponibilización de datos"
   ]
  },
  {
   "cell_type": "markdown",
   "metadata": {},
   "source": [
    "#### 3.1 PlayTimeGenre:  Debe devolver año con mas horas jugadas para dicho género.\n",
    "Ejemplo de retorno: {\"Año de lanzamiento con más horas jugadas para Género X\" : 2013}"
   ]
  },
  {
   "cell_type": "code",
   "execution_count": null,
   "metadata": {},
   "outputs": [],
   "source": [
    "games.tail()"
   ]
  },
  {
   "cell_type": "code",
   "execution_count": null,
   "metadata": {},
   "outputs": [],
   "source": [
    "reviews.head()"
   ]
  },
  {
   "cell_type": "code",
   "execution_count": null,
   "metadata": {},
   "outputs": [],
   "source": [
    "items.head()"
   ]
  },
  {
   "cell_type": "markdown",
   "metadata": {},
   "source": [
    "#### 3.2 UsersForGenre: Debe devolver el usuario que acumula más horas jugadas para el género dado y una lista de la acumulación de horas jugadas por año.\n",
    "Ejemplo de retorno: {\"Usuario con más horas jugadas para Género X\" : us213ndjss09sdf, \"Horas jugadas\":[{Año: 2013, Horas: 203}, {Año: 2012, Horas: 100}, {Año: 2011, Horas: 23}]}"
   ]
  },
  {
   "cell_type": "code",
   "execution_count": null,
   "metadata": {},
   "outputs": [],
   "source": [
    "items[['user_id','item_id','playtime_forever']].head()"
   ]
  }
 ],
 "metadata": {
  "kernelspec": {
   "display_name": "sist_rec_juegos-env",
   "language": "python",
   "name": "python3"
  },
  "language_info": {
   "codemirror_mode": {
    "name": "ipython",
    "version": 3
   },
   "file_extension": ".py",
   "mimetype": "text/x-python",
   "name": "python",
   "nbconvert_exporter": "python",
   "pygments_lexer": "ipython3",
   "version": "3.11.1"
  }
 },
 "nbformat": 4,
 "nbformat_minor": 2
}
